{
 "cells": [
  {
   "cell_type": "markdown",
   "metadata": {},
   "source": [
    "## **Dataset: Adult - UCI Machine Learning Repository**\n",
    "\n",
    "Link: https://archive.ics.uci.edu/dataset/2/adult"
   ]
  },
  {
   "cell_type": "markdown",
   "metadata": {},
   "source": [
    "### **4. Tratamento dos dados:**"
   ]
  },
  {
   "cell_type": "code",
   "execution_count": 113,
   "metadata": {},
   "outputs": [],
   "source": [
    "import pandas as pd"
   ]
  },
  {
   "cell_type": "code",
   "execution_count": 114,
   "metadata": {},
   "outputs": [
    {
     "data": {
      "application/vnd.microsoft.datawrangler.viewer.v0+json": {
       "columns": [
        {
         "name": "index",
         "rawType": "int64",
         "type": "integer"
        },
        {
         "name": "X0",
         "rawType": "int64",
         "type": "integer"
        },
        {
         "name": "X1",
         "rawType": "object",
         "type": "string"
        },
        {
         "name": "X2",
         "rawType": "int64",
         "type": "integer"
        },
        {
         "name": "X3",
         "rawType": "object",
         "type": "string"
        },
        {
         "name": "X4",
         "rawType": "int64",
         "type": "integer"
        },
        {
         "name": "X5",
         "rawType": "object",
         "type": "string"
        },
        {
         "name": "X6",
         "rawType": "object",
         "type": "string"
        },
        {
         "name": "X7",
         "rawType": "object",
         "type": "string"
        },
        {
         "name": "X8",
         "rawType": "object",
         "type": "string"
        },
        {
         "name": "X9",
         "rawType": "object",
         "type": "string"
        },
        {
         "name": "X10",
         "rawType": "int64",
         "type": "integer"
        },
        {
         "name": "X11",
         "rawType": "int64",
         "type": "integer"
        },
        {
         "name": "X12",
         "rawType": "int64",
         "type": "integer"
        },
        {
         "name": "X13",
         "rawType": "object",
         "type": "string"
        },
        {
         "name": "X14",
         "rawType": "object",
         "type": "string"
        }
       ],
       "conversionMethod": "pd.DataFrame",
       "ref": "4f1940b3-498d-4eb2-9502-7b9cf0825cf4",
       "rows": [
        [
         "0",
         "39",
         "State-gov",
         "77516",
         "Bachelors",
         "13",
         "Never-married",
         "Adm-clerical",
         "Not-in-family",
         "White",
         "Male",
         "2174",
         "0",
         "40",
         "United-States",
         "<=50K"
        ],
        [
         "1",
         "50",
         "Self-emp-not-inc",
         "83311",
         "Bachelors",
         "13",
         "Married-civ-spouse",
         "Exec-managerial",
         "Husband",
         "White",
         "Male",
         "0",
         "0",
         "13",
         "United-States",
         "<=50K"
        ],
        [
         "2",
         "38",
         "Private",
         "215646",
         "HS-grad",
         "9",
         "Divorced",
         "Handlers-cleaners",
         "Not-in-family",
         "White",
         "Male",
         "0",
         "0",
         "40",
         "United-States",
         "<=50K"
        ],
        [
         "3",
         "53",
         "Private",
         "234721",
         "11th",
         "7",
         "Married-civ-spouse",
         "Handlers-cleaners",
         "Husband",
         "Black",
         "Male",
         "0",
         "0",
         "40",
         "United-States",
         "<=50K"
        ],
        [
         "4",
         "28",
         "Private",
         "338409",
         "Bachelors",
         "13",
         "Married-civ-spouse",
         "Prof-specialty",
         "Wife",
         "Black",
         "Female",
         "0",
         "0",
         "40",
         "Cuba",
         "<=50K"
        ],
        [
         "5",
         "37",
         "Private",
         "284582",
         "Masters",
         "14",
         "Married-civ-spouse",
         "Exec-managerial",
         "Wife",
         "White",
         "Female",
         "0",
         "0",
         "40",
         "United-States",
         "<=50K"
        ],
        [
         "6",
         "49",
         "Private",
         "160187",
         "9th",
         "5",
         "Married-spouse-absent",
         "Other-service",
         "Not-in-family",
         "Black",
         "Female",
         "0",
         "0",
         "16",
         "Jamaica",
         "<=50K"
        ],
        [
         "7",
         "52",
         "Self-emp-not-inc",
         "209642",
         "HS-grad",
         "9",
         "Married-civ-spouse",
         "Exec-managerial",
         "Husband",
         "White",
         "Male",
         "0",
         "0",
         "45",
         "United-States",
         ">50K"
        ],
        [
         "8",
         "31",
         "Private",
         "45781",
         "Masters",
         "14",
         "Never-married",
         "Prof-specialty",
         "Not-in-family",
         "White",
         "Female",
         "14084",
         "0",
         "50",
         "United-States",
         ">50K"
        ],
        [
         "9",
         "42",
         "Private",
         "159449",
         "Bachelors",
         "13",
         "Married-civ-spouse",
         "Exec-managerial",
         "Husband",
         "White",
         "Male",
         "5178",
         "0",
         "40",
         "United-States",
         ">50K"
        ],
        [
         "10",
         "37",
         "Private",
         "280464",
         "Some-college",
         "10",
         "Married-civ-spouse",
         "Exec-managerial",
         "Husband",
         "Black",
         "Male",
         "0",
         "0",
         "80",
         "United-States",
         ">50K"
        ],
        [
         "11",
         "30",
         "State-gov",
         "141297",
         "Bachelors",
         "13",
         "Married-civ-spouse",
         "Prof-specialty",
         "Husband",
         "Asian-Pac-Islander",
         "Male",
         "0",
         "0",
         "40",
         "India",
         ">50K"
        ],
        [
         "12",
         "23",
         "Private",
         "122272",
         "Bachelors",
         "13",
         "Never-married",
         "Adm-clerical",
         "Own-child",
         "White",
         "Female",
         "0",
         "0",
         "30",
         "United-States",
         "<=50K"
        ],
        [
         "13",
         "32",
         "Private",
         "205019",
         "Assoc-acdm",
         "12",
         "Never-married",
         "Sales",
         "Not-in-family",
         "Black",
         "Male",
         "0",
         "0",
         "50",
         "United-States",
         "<=50K"
        ],
        [
         "14",
         "40",
         "Private",
         "121772",
         "Assoc-voc",
         "11",
         "Married-civ-spouse",
         "Craft-repair",
         "Husband",
         "Asian-Pac-Islander",
         "Male",
         "0",
         "0",
         "40",
         "?",
         ">50K"
        ],
        [
         "15",
         "34",
         "Private",
         "245487",
         "7th-8th",
         "4",
         "Married-civ-spouse",
         "Transport-moving",
         "Husband",
         "Amer-Indian-Eskimo",
         "Male",
         "0",
         "0",
         "45",
         "Mexico",
         "<=50K"
        ],
        [
         "16",
         "25",
         "Self-emp-not-inc",
         "176756",
         "HS-grad",
         "9",
         "Never-married",
         "Farming-fishing",
         "Own-child",
         "White",
         "Male",
         "0",
         "0",
         "35",
         "United-States",
         "<=50K"
        ],
        [
         "17",
         "32",
         "Private",
         "186824",
         "HS-grad",
         "9",
         "Never-married",
         "Machine-op-inspct",
         "Unmarried",
         "White",
         "Male",
         "0",
         "0",
         "40",
         "United-States",
         "<=50K"
        ],
        [
         "18",
         "38",
         "Private",
         "28887",
         "11th",
         "7",
         "Married-civ-spouse",
         "Sales",
         "Husband",
         "White",
         "Male",
         "0",
         "0",
         "50",
         "United-States",
         "<=50K"
        ],
        [
         "19",
         "43",
         "Self-emp-not-inc",
         "292175",
         "Masters",
         "14",
         "Divorced",
         "Exec-managerial",
         "Unmarried",
         "White",
         "Female",
         "0",
         "0",
         "45",
         "United-States",
         ">50K"
        ],
        [
         "20",
         "40",
         "Private",
         "193524",
         "Doctorate",
         "16",
         "Married-civ-spouse",
         "Prof-specialty",
         "Husband",
         "White",
         "Male",
         "0",
         "0",
         "60",
         "United-States",
         ">50K"
        ],
        [
         "21",
         "54",
         "Private",
         "302146",
         "HS-grad",
         "9",
         "Separated",
         "Other-service",
         "Unmarried",
         "Black",
         "Female",
         "0",
         "0",
         "20",
         "United-States",
         "<=50K"
        ],
        [
         "22",
         "35",
         "Federal-gov",
         "76845",
         "9th",
         "5",
         "Married-civ-spouse",
         "Farming-fishing",
         "Husband",
         "Black",
         "Male",
         "0",
         "0",
         "40",
         "United-States",
         "<=50K"
        ],
        [
         "23",
         "43",
         "Private",
         "117037",
         "11th",
         "7",
         "Married-civ-spouse",
         "Transport-moving",
         "Husband",
         "White",
         "Male",
         "0",
         "2042",
         "40",
         "United-States",
         "<=50K"
        ],
        [
         "24",
         "59",
         "Private",
         "109015",
         "HS-grad",
         "9",
         "Divorced",
         "Tech-support",
         "Unmarried",
         "White",
         "Female",
         "0",
         "0",
         "40",
         "United-States",
         "<=50K"
        ],
        [
         "25",
         "56",
         "Local-gov",
         "216851",
         "Bachelors",
         "13",
         "Married-civ-spouse",
         "Tech-support",
         "Husband",
         "White",
         "Male",
         "0",
         "0",
         "40",
         "United-States",
         ">50K"
        ],
        [
         "26",
         "19",
         "Private",
         "168294",
         "HS-grad",
         "9",
         "Never-married",
         "Craft-repair",
         "Own-child",
         "White",
         "Male",
         "0",
         "0",
         "40",
         "United-States",
         "<=50K"
        ],
        [
         "27",
         "54",
         "?",
         "180211",
         "Some-college",
         "10",
         "Married-civ-spouse",
         "?",
         "Husband",
         "Asian-Pac-Islander",
         "Male",
         "0",
         "0",
         "60",
         "South",
         ">50K"
        ],
        [
         "28",
         "39",
         "Private",
         "367260",
         "HS-grad",
         "9",
         "Divorced",
         "Exec-managerial",
         "Not-in-family",
         "White",
         "Male",
         "0",
         "0",
         "80",
         "United-States",
         "<=50K"
        ],
        [
         "29",
         "49",
         "Private",
         "193366",
         "HS-grad",
         "9",
         "Married-civ-spouse",
         "Craft-repair",
         "Husband",
         "White",
         "Male",
         "0",
         "0",
         "40",
         "United-States",
         "<=50K"
        ],
        [
         "30",
         "23",
         "Local-gov",
         "190709",
         "Assoc-acdm",
         "12",
         "Never-married",
         "Protective-serv",
         "Not-in-family",
         "White",
         "Male",
         "0",
         "0",
         "52",
         "United-States",
         "<=50K"
        ],
        [
         "31",
         "20",
         "Private",
         "266015",
         "Some-college",
         "10",
         "Never-married",
         "Sales",
         "Own-child",
         "Black",
         "Male",
         "0",
         "0",
         "44",
         "United-States",
         "<=50K"
        ],
        [
         "32",
         "45",
         "Private",
         "386940",
         "Bachelors",
         "13",
         "Divorced",
         "Exec-managerial",
         "Own-child",
         "White",
         "Male",
         "0",
         "1408",
         "40",
         "United-States",
         "<=50K"
        ],
        [
         "33",
         "30",
         "Federal-gov",
         "59951",
         "Some-college",
         "10",
         "Married-civ-spouse",
         "Adm-clerical",
         "Own-child",
         "White",
         "Male",
         "0",
         "0",
         "40",
         "United-States",
         "<=50K"
        ],
        [
         "34",
         "22",
         "State-gov",
         "311512",
         "Some-college",
         "10",
         "Married-civ-spouse",
         "Other-service",
         "Husband",
         "Black",
         "Male",
         "0",
         "0",
         "15",
         "United-States",
         "<=50K"
        ],
        [
         "35",
         "48",
         "Private",
         "242406",
         "11th",
         "7",
         "Never-married",
         "Machine-op-inspct",
         "Unmarried",
         "White",
         "Male",
         "0",
         "0",
         "40",
         "Puerto-Rico",
         "<=50K"
        ],
        [
         "36",
         "21",
         "Private",
         "197200",
         "Some-college",
         "10",
         "Never-married",
         "Machine-op-inspct",
         "Own-child",
         "White",
         "Male",
         "0",
         "0",
         "40",
         "United-States",
         "<=50K"
        ],
        [
         "37",
         "19",
         "Private",
         "544091",
         "HS-grad",
         "9",
         "Married-AF-spouse",
         "Adm-clerical",
         "Wife",
         "White",
         "Female",
         "0",
         "0",
         "25",
         "United-States",
         "<=50K"
        ],
        [
         "38",
         "31",
         "Private",
         "84154",
         "Some-college",
         "10",
         "Married-civ-spouse",
         "Sales",
         "Husband",
         "White",
         "Male",
         "0",
         "0",
         "38",
         "?",
         ">50K"
        ],
        [
         "39",
         "48",
         "Self-emp-not-inc",
         "265477",
         "Assoc-acdm",
         "12",
         "Married-civ-spouse",
         "Prof-specialty",
         "Husband",
         "White",
         "Male",
         "0",
         "0",
         "40",
         "United-States",
         "<=50K"
        ],
        [
         "40",
         "31",
         "Private",
         "507875",
         "9th",
         "5",
         "Married-civ-spouse",
         "Machine-op-inspct",
         "Husband",
         "White",
         "Male",
         "0",
         "0",
         "43",
         "United-States",
         "<=50K"
        ],
        [
         "41",
         "53",
         "Self-emp-not-inc",
         "88506",
         "Bachelors",
         "13",
         "Married-civ-spouse",
         "Prof-specialty",
         "Husband",
         "White",
         "Male",
         "0",
         "0",
         "40",
         "United-States",
         "<=50K"
        ],
        [
         "42",
         "24",
         "Private",
         "172987",
         "Bachelors",
         "13",
         "Married-civ-spouse",
         "Tech-support",
         "Husband",
         "White",
         "Male",
         "0",
         "0",
         "50",
         "United-States",
         "<=50K"
        ],
        [
         "43",
         "49",
         "Private",
         "94638",
         "HS-grad",
         "9",
         "Separated",
         "Adm-clerical",
         "Unmarried",
         "White",
         "Female",
         "0",
         "0",
         "40",
         "United-States",
         "<=50K"
        ],
        [
         "44",
         "25",
         "Private",
         "289980",
         "HS-grad",
         "9",
         "Never-married",
         "Handlers-cleaners",
         "Not-in-family",
         "White",
         "Male",
         "0",
         "0",
         "35",
         "United-States",
         "<=50K"
        ],
        [
         "45",
         "57",
         "Federal-gov",
         "337895",
         "Bachelors",
         "13",
         "Married-civ-spouse",
         "Prof-specialty",
         "Husband",
         "Black",
         "Male",
         "0",
         "0",
         "40",
         "United-States",
         ">50K"
        ],
        [
         "46",
         "53",
         "Private",
         "144361",
         "HS-grad",
         "9",
         "Married-civ-spouse",
         "Machine-op-inspct",
         "Husband",
         "White",
         "Male",
         "0",
         "0",
         "38",
         "United-States",
         "<=50K"
        ],
        [
         "47",
         "44",
         "Private",
         "128354",
         "Masters",
         "14",
         "Divorced",
         "Exec-managerial",
         "Unmarried",
         "White",
         "Female",
         "0",
         "0",
         "40",
         "United-States",
         "<=50K"
        ],
        [
         "48",
         "41",
         "State-gov",
         "101603",
         "Assoc-voc",
         "11",
         "Married-civ-spouse",
         "Craft-repair",
         "Husband",
         "White",
         "Male",
         "0",
         "0",
         "40",
         "United-States",
         "<=50K"
        ],
        [
         "49",
         "29",
         "Private",
         "271466",
         "Assoc-voc",
         "11",
         "Never-married",
         "Prof-specialty",
         "Not-in-family",
         "White",
         "Male",
         "0",
         "0",
         "43",
         "United-States",
         "<=50K"
        ]
       ],
       "shape": {
        "columns": 15,
        "rows": 32560
       }
      },
      "text/html": [
       "<div>\n",
       "<style scoped>\n",
       "    .dataframe tbody tr th:only-of-type {\n",
       "        vertical-align: middle;\n",
       "    }\n",
       "\n",
       "    .dataframe tbody tr th {\n",
       "        vertical-align: top;\n",
       "    }\n",
       "\n",
       "    .dataframe thead th {\n",
       "        text-align: right;\n",
       "    }\n",
       "</style>\n",
       "<table border=\"1\" class=\"dataframe\">\n",
       "  <thead>\n",
       "    <tr style=\"text-align: right;\">\n",
       "      <th></th>\n",
       "      <th>X0</th>\n",
       "      <th>X1</th>\n",
       "      <th>X2</th>\n",
       "      <th>X3</th>\n",
       "      <th>X4</th>\n",
       "      <th>X5</th>\n",
       "      <th>X6</th>\n",
       "      <th>X7</th>\n",
       "      <th>X8</th>\n",
       "      <th>X9</th>\n",
       "      <th>X10</th>\n",
       "      <th>X11</th>\n",
       "      <th>X12</th>\n",
       "      <th>X13</th>\n",
       "      <th>X14</th>\n",
       "    </tr>\n",
       "  </thead>\n",
       "  <tbody>\n",
       "    <tr>\n",
       "      <th>0</th>\n",
       "      <td>39</td>\n",
       "      <td>State-gov</td>\n",
       "      <td>77516</td>\n",
       "      <td>Bachelors</td>\n",
       "      <td>13</td>\n",
       "      <td>Never-married</td>\n",
       "      <td>Adm-clerical</td>\n",
       "      <td>Not-in-family</td>\n",
       "      <td>White</td>\n",
       "      <td>Male</td>\n",
       "      <td>2174</td>\n",
       "      <td>0</td>\n",
       "      <td>40</td>\n",
       "      <td>United-States</td>\n",
       "      <td>&lt;=50K</td>\n",
       "    </tr>\n",
       "    <tr>\n",
       "      <th>1</th>\n",
       "      <td>50</td>\n",
       "      <td>Self-emp-not-inc</td>\n",
       "      <td>83311</td>\n",
       "      <td>Bachelors</td>\n",
       "      <td>13</td>\n",
       "      <td>Married-civ-spouse</td>\n",
       "      <td>Exec-managerial</td>\n",
       "      <td>Husband</td>\n",
       "      <td>White</td>\n",
       "      <td>Male</td>\n",
       "      <td>0</td>\n",
       "      <td>0</td>\n",
       "      <td>13</td>\n",
       "      <td>United-States</td>\n",
       "      <td>&lt;=50K</td>\n",
       "    </tr>\n",
       "    <tr>\n",
       "      <th>2</th>\n",
       "      <td>38</td>\n",
       "      <td>Private</td>\n",
       "      <td>215646</td>\n",
       "      <td>HS-grad</td>\n",
       "      <td>9</td>\n",
       "      <td>Divorced</td>\n",
       "      <td>Handlers-cleaners</td>\n",
       "      <td>Not-in-family</td>\n",
       "      <td>White</td>\n",
       "      <td>Male</td>\n",
       "      <td>0</td>\n",
       "      <td>0</td>\n",
       "      <td>40</td>\n",
       "      <td>United-States</td>\n",
       "      <td>&lt;=50K</td>\n",
       "    </tr>\n",
       "    <tr>\n",
       "      <th>3</th>\n",
       "      <td>53</td>\n",
       "      <td>Private</td>\n",
       "      <td>234721</td>\n",
       "      <td>11th</td>\n",
       "      <td>7</td>\n",
       "      <td>Married-civ-spouse</td>\n",
       "      <td>Handlers-cleaners</td>\n",
       "      <td>Husband</td>\n",
       "      <td>Black</td>\n",
       "      <td>Male</td>\n",
       "      <td>0</td>\n",
       "      <td>0</td>\n",
       "      <td>40</td>\n",
       "      <td>United-States</td>\n",
       "      <td>&lt;=50K</td>\n",
       "    </tr>\n",
       "    <tr>\n",
       "      <th>4</th>\n",
       "      <td>28</td>\n",
       "      <td>Private</td>\n",
       "      <td>338409</td>\n",
       "      <td>Bachelors</td>\n",
       "      <td>13</td>\n",
       "      <td>Married-civ-spouse</td>\n",
       "      <td>Prof-specialty</td>\n",
       "      <td>Wife</td>\n",
       "      <td>Black</td>\n",
       "      <td>Female</td>\n",
       "      <td>0</td>\n",
       "      <td>0</td>\n",
       "      <td>40</td>\n",
       "      <td>Cuba</td>\n",
       "      <td>&lt;=50K</td>\n",
       "    </tr>\n",
       "    <tr>\n",
       "      <th>...</th>\n",
       "      <td>...</td>\n",
       "      <td>...</td>\n",
       "      <td>...</td>\n",
       "      <td>...</td>\n",
       "      <td>...</td>\n",
       "      <td>...</td>\n",
       "      <td>...</td>\n",
       "      <td>...</td>\n",
       "      <td>...</td>\n",
       "      <td>...</td>\n",
       "      <td>...</td>\n",
       "      <td>...</td>\n",
       "      <td>...</td>\n",
       "      <td>...</td>\n",
       "      <td>...</td>\n",
       "    </tr>\n",
       "    <tr>\n",
       "      <th>32555</th>\n",
       "      <td>22</td>\n",
       "      <td>Private</td>\n",
       "      <td>310152</td>\n",
       "      <td>Some-college</td>\n",
       "      <td>10</td>\n",
       "      <td>Never-married</td>\n",
       "      <td>Protective-serv</td>\n",
       "      <td>Not-in-family</td>\n",
       "      <td>White</td>\n",
       "      <td>Male</td>\n",
       "      <td>0</td>\n",
       "      <td>0</td>\n",
       "      <td>40</td>\n",
       "      <td>United-States</td>\n",
       "      <td>&lt;=50K</td>\n",
       "    </tr>\n",
       "    <tr>\n",
       "      <th>32556</th>\n",
       "      <td>27</td>\n",
       "      <td>Private</td>\n",
       "      <td>257302</td>\n",
       "      <td>Assoc-acdm</td>\n",
       "      <td>12</td>\n",
       "      <td>Married-civ-spouse</td>\n",
       "      <td>Tech-support</td>\n",
       "      <td>Wife</td>\n",
       "      <td>White</td>\n",
       "      <td>Female</td>\n",
       "      <td>0</td>\n",
       "      <td>0</td>\n",
       "      <td>38</td>\n",
       "      <td>United-States</td>\n",
       "      <td>&lt;=50K</td>\n",
       "    </tr>\n",
       "    <tr>\n",
       "      <th>32557</th>\n",
       "      <td>40</td>\n",
       "      <td>Private</td>\n",
       "      <td>154374</td>\n",
       "      <td>HS-grad</td>\n",
       "      <td>9</td>\n",
       "      <td>Married-civ-spouse</td>\n",
       "      <td>Machine-op-inspct</td>\n",
       "      <td>Husband</td>\n",
       "      <td>White</td>\n",
       "      <td>Male</td>\n",
       "      <td>0</td>\n",
       "      <td>0</td>\n",
       "      <td>40</td>\n",
       "      <td>United-States</td>\n",
       "      <td>&gt;50K</td>\n",
       "    </tr>\n",
       "    <tr>\n",
       "      <th>32558</th>\n",
       "      <td>58</td>\n",
       "      <td>Private</td>\n",
       "      <td>151910</td>\n",
       "      <td>HS-grad</td>\n",
       "      <td>9</td>\n",
       "      <td>Widowed</td>\n",
       "      <td>Adm-clerical</td>\n",
       "      <td>Unmarried</td>\n",
       "      <td>White</td>\n",
       "      <td>Female</td>\n",
       "      <td>0</td>\n",
       "      <td>0</td>\n",
       "      <td>40</td>\n",
       "      <td>United-States</td>\n",
       "      <td>&lt;=50K</td>\n",
       "    </tr>\n",
       "    <tr>\n",
       "      <th>32559</th>\n",
       "      <td>22</td>\n",
       "      <td>Private</td>\n",
       "      <td>201490</td>\n",
       "      <td>HS-grad</td>\n",
       "      <td>9</td>\n",
       "      <td>Never-married</td>\n",
       "      <td>Adm-clerical</td>\n",
       "      <td>Own-child</td>\n",
       "      <td>White</td>\n",
       "      <td>Male</td>\n",
       "      <td>0</td>\n",
       "      <td>0</td>\n",
       "      <td>20</td>\n",
       "      <td>United-States</td>\n",
       "      <td>&lt;=50K</td>\n",
       "    </tr>\n",
       "  </tbody>\n",
       "</table>\n",
       "<p>32560 rows × 15 columns</p>\n",
       "</div>"
      ],
      "text/plain": [
       "       X0                X1      X2            X3  X4                  X5  \\\n",
       "0      39         State-gov   77516     Bachelors  13       Never-married   \n",
       "1      50  Self-emp-not-inc   83311     Bachelors  13  Married-civ-spouse   \n",
       "2      38           Private  215646       HS-grad   9            Divorced   \n",
       "3      53           Private  234721          11th   7  Married-civ-spouse   \n",
       "4      28           Private  338409     Bachelors  13  Married-civ-spouse   \n",
       "...    ..               ...     ...           ...  ..                 ...   \n",
       "32555  22           Private  310152  Some-college  10       Never-married   \n",
       "32556  27           Private  257302    Assoc-acdm  12  Married-civ-spouse   \n",
       "32557  40           Private  154374       HS-grad   9  Married-civ-spouse   \n",
       "32558  58           Private  151910       HS-grad   9             Widowed   \n",
       "32559  22           Private  201490       HS-grad   9       Never-married   \n",
       "\n",
       "                      X6             X7     X8      X9   X10  X11  X12  \\\n",
       "0           Adm-clerical  Not-in-family  White    Male  2174    0   40   \n",
       "1        Exec-managerial        Husband  White    Male     0    0   13   \n",
       "2      Handlers-cleaners  Not-in-family  White    Male     0    0   40   \n",
       "3      Handlers-cleaners        Husband  Black    Male     0    0   40   \n",
       "4         Prof-specialty           Wife  Black  Female     0    0   40   \n",
       "...                  ...            ...    ...     ...   ...  ...  ...   \n",
       "32555    Protective-serv  Not-in-family  White    Male     0    0   40   \n",
       "32556       Tech-support           Wife  White  Female     0    0   38   \n",
       "32557  Machine-op-inspct        Husband  White    Male     0    0   40   \n",
       "32558       Adm-clerical      Unmarried  White  Female     0    0   40   \n",
       "32559       Adm-clerical      Own-child  White    Male     0    0   20   \n",
       "\n",
       "                 X13    X14  \n",
       "0      United-States  <=50K  \n",
       "1      United-States  <=50K  \n",
       "2      United-States  <=50K  \n",
       "3      United-States  <=50K  \n",
       "4               Cuba  <=50K  \n",
       "...              ...    ...  \n",
       "32555  United-States  <=50K  \n",
       "32556  United-States  <=50K  \n",
       "32557  United-States   >50K  \n",
       "32558  United-States  <=50K  \n",
       "32559  United-States  <=50K  \n",
       "\n",
       "[32560 rows x 15 columns]"
      ]
     },
     "execution_count": 114,
     "metadata": {},
     "output_type": "execute_result"
    }
   ],
   "source": [
    "dataset = pd.read_csv(\"data/adult.csv\")\n",
    "dataset"
   ]
  },
  {
   "cell_type": "markdown",
   "metadata": {},
   "source": [
    "#### **4.1 - Tratamento no nome das colunas:**"
   ]
  },
  {
   "cell_type": "code",
   "execution_count": 115,
   "metadata": {},
   "outputs": [
    {
     "data": {
      "application/vnd.microsoft.datawrangler.viewer.v0+json": {
       "columns": [
        {
         "name": "index",
         "rawType": "int64",
         "type": "integer"
        },
        {
         "name": "age",
         "rawType": "int64",
         "type": "integer"
        },
        {
         "name": "workclass",
         "rawType": "object",
         "type": "string"
        },
        {
         "name": "fnlwgt",
         "rawType": "int64",
         "type": "integer"
        },
        {
         "name": "education",
         "rawType": "object",
         "type": "string"
        },
        {
         "name": "education-num",
         "rawType": "int64",
         "type": "integer"
        },
        {
         "name": "marital-status",
         "rawType": "object",
         "type": "string"
        },
        {
         "name": "occupation",
         "rawType": "object",
         "type": "string"
        },
        {
         "name": "relationship",
         "rawType": "object",
         "type": "string"
        },
        {
         "name": "race",
         "rawType": "object",
         "type": "string"
        },
        {
         "name": "sex",
         "rawType": "object",
         "type": "string"
        },
        {
         "name": "capital-gain",
         "rawType": "int64",
         "type": "integer"
        },
        {
         "name": "capital-loss",
         "rawType": "int64",
         "type": "integer"
        },
        {
         "name": "hours-per-week",
         "rawType": "int64",
         "type": "integer"
        },
        {
         "name": "native-country",
         "rawType": "object",
         "type": "string"
        },
        {
         "name": "income",
         "rawType": "object",
         "type": "string"
        }
       ],
       "conversionMethod": "pd.DataFrame",
       "ref": "5a04fa7e-7cab-46e1-8e69-032067a7d81a",
       "rows": [
        [
         "0",
         "39",
         "State-gov",
         "77516",
         "Bachelors",
         "13",
         "Never-married",
         "Adm-clerical",
         "Not-in-family",
         "White",
         "Male",
         "2174",
         "0",
         "40",
         "United-States",
         "<=50K"
        ],
        [
         "1",
         "50",
         "Self-emp-not-inc",
         "83311",
         "Bachelors",
         "13",
         "Married-civ-spouse",
         "Exec-managerial",
         "Husband",
         "White",
         "Male",
         "0",
         "0",
         "13",
         "United-States",
         "<=50K"
        ],
        [
         "2",
         "38",
         "Private",
         "215646",
         "HS-grad",
         "9",
         "Divorced",
         "Handlers-cleaners",
         "Not-in-family",
         "White",
         "Male",
         "0",
         "0",
         "40",
         "United-States",
         "<=50K"
        ],
        [
         "3",
         "53",
         "Private",
         "234721",
         "11th",
         "7",
         "Married-civ-spouse",
         "Handlers-cleaners",
         "Husband",
         "Black",
         "Male",
         "0",
         "0",
         "40",
         "United-States",
         "<=50K"
        ],
        [
         "4",
         "28",
         "Private",
         "338409",
         "Bachelors",
         "13",
         "Married-civ-spouse",
         "Prof-specialty",
         "Wife",
         "Black",
         "Female",
         "0",
         "0",
         "40",
         "Cuba",
         "<=50K"
        ],
        [
         "5",
         "37",
         "Private",
         "284582",
         "Masters",
         "14",
         "Married-civ-spouse",
         "Exec-managerial",
         "Wife",
         "White",
         "Female",
         "0",
         "0",
         "40",
         "United-States",
         "<=50K"
        ],
        [
         "6",
         "49",
         "Private",
         "160187",
         "9th",
         "5",
         "Married-spouse-absent",
         "Other-service",
         "Not-in-family",
         "Black",
         "Female",
         "0",
         "0",
         "16",
         "Jamaica",
         "<=50K"
        ],
        [
         "7",
         "52",
         "Self-emp-not-inc",
         "209642",
         "HS-grad",
         "9",
         "Married-civ-spouse",
         "Exec-managerial",
         "Husband",
         "White",
         "Male",
         "0",
         "0",
         "45",
         "United-States",
         ">50K"
        ],
        [
         "8",
         "31",
         "Private",
         "45781",
         "Masters",
         "14",
         "Never-married",
         "Prof-specialty",
         "Not-in-family",
         "White",
         "Female",
         "14084",
         "0",
         "50",
         "United-States",
         ">50K"
        ],
        [
         "9",
         "42",
         "Private",
         "159449",
         "Bachelors",
         "13",
         "Married-civ-spouse",
         "Exec-managerial",
         "Husband",
         "White",
         "Male",
         "5178",
         "0",
         "40",
         "United-States",
         ">50K"
        ],
        [
         "10",
         "37",
         "Private",
         "280464",
         "Some-college",
         "10",
         "Married-civ-spouse",
         "Exec-managerial",
         "Husband",
         "Black",
         "Male",
         "0",
         "0",
         "80",
         "United-States",
         ">50K"
        ],
        [
         "11",
         "30",
         "State-gov",
         "141297",
         "Bachelors",
         "13",
         "Married-civ-spouse",
         "Prof-specialty",
         "Husband",
         "Asian-Pac-Islander",
         "Male",
         "0",
         "0",
         "40",
         "India",
         ">50K"
        ],
        [
         "12",
         "23",
         "Private",
         "122272",
         "Bachelors",
         "13",
         "Never-married",
         "Adm-clerical",
         "Own-child",
         "White",
         "Female",
         "0",
         "0",
         "30",
         "United-States",
         "<=50K"
        ],
        [
         "13",
         "32",
         "Private",
         "205019",
         "Assoc-acdm",
         "12",
         "Never-married",
         "Sales",
         "Not-in-family",
         "Black",
         "Male",
         "0",
         "0",
         "50",
         "United-States",
         "<=50K"
        ],
        [
         "14",
         "40",
         "Private",
         "121772",
         "Assoc-voc",
         "11",
         "Married-civ-spouse",
         "Craft-repair",
         "Husband",
         "Asian-Pac-Islander",
         "Male",
         "0",
         "0",
         "40",
         "?",
         ">50K"
        ],
        [
         "15",
         "34",
         "Private",
         "245487",
         "7th-8th",
         "4",
         "Married-civ-spouse",
         "Transport-moving",
         "Husband",
         "Amer-Indian-Eskimo",
         "Male",
         "0",
         "0",
         "45",
         "Mexico",
         "<=50K"
        ],
        [
         "16",
         "25",
         "Self-emp-not-inc",
         "176756",
         "HS-grad",
         "9",
         "Never-married",
         "Farming-fishing",
         "Own-child",
         "White",
         "Male",
         "0",
         "0",
         "35",
         "United-States",
         "<=50K"
        ],
        [
         "17",
         "32",
         "Private",
         "186824",
         "HS-grad",
         "9",
         "Never-married",
         "Machine-op-inspct",
         "Unmarried",
         "White",
         "Male",
         "0",
         "0",
         "40",
         "United-States",
         "<=50K"
        ],
        [
         "18",
         "38",
         "Private",
         "28887",
         "11th",
         "7",
         "Married-civ-spouse",
         "Sales",
         "Husband",
         "White",
         "Male",
         "0",
         "0",
         "50",
         "United-States",
         "<=50K"
        ],
        [
         "19",
         "43",
         "Self-emp-not-inc",
         "292175",
         "Masters",
         "14",
         "Divorced",
         "Exec-managerial",
         "Unmarried",
         "White",
         "Female",
         "0",
         "0",
         "45",
         "United-States",
         ">50K"
        ],
        [
         "20",
         "40",
         "Private",
         "193524",
         "Doctorate",
         "16",
         "Married-civ-spouse",
         "Prof-specialty",
         "Husband",
         "White",
         "Male",
         "0",
         "0",
         "60",
         "United-States",
         ">50K"
        ],
        [
         "21",
         "54",
         "Private",
         "302146",
         "HS-grad",
         "9",
         "Separated",
         "Other-service",
         "Unmarried",
         "Black",
         "Female",
         "0",
         "0",
         "20",
         "United-States",
         "<=50K"
        ],
        [
         "22",
         "35",
         "Federal-gov",
         "76845",
         "9th",
         "5",
         "Married-civ-spouse",
         "Farming-fishing",
         "Husband",
         "Black",
         "Male",
         "0",
         "0",
         "40",
         "United-States",
         "<=50K"
        ],
        [
         "23",
         "43",
         "Private",
         "117037",
         "11th",
         "7",
         "Married-civ-spouse",
         "Transport-moving",
         "Husband",
         "White",
         "Male",
         "0",
         "2042",
         "40",
         "United-States",
         "<=50K"
        ],
        [
         "24",
         "59",
         "Private",
         "109015",
         "HS-grad",
         "9",
         "Divorced",
         "Tech-support",
         "Unmarried",
         "White",
         "Female",
         "0",
         "0",
         "40",
         "United-States",
         "<=50K"
        ],
        [
         "25",
         "56",
         "Local-gov",
         "216851",
         "Bachelors",
         "13",
         "Married-civ-spouse",
         "Tech-support",
         "Husband",
         "White",
         "Male",
         "0",
         "0",
         "40",
         "United-States",
         ">50K"
        ],
        [
         "26",
         "19",
         "Private",
         "168294",
         "HS-grad",
         "9",
         "Never-married",
         "Craft-repair",
         "Own-child",
         "White",
         "Male",
         "0",
         "0",
         "40",
         "United-States",
         "<=50K"
        ],
        [
         "27",
         "54",
         "?",
         "180211",
         "Some-college",
         "10",
         "Married-civ-spouse",
         "?",
         "Husband",
         "Asian-Pac-Islander",
         "Male",
         "0",
         "0",
         "60",
         "South",
         ">50K"
        ],
        [
         "28",
         "39",
         "Private",
         "367260",
         "HS-grad",
         "9",
         "Divorced",
         "Exec-managerial",
         "Not-in-family",
         "White",
         "Male",
         "0",
         "0",
         "80",
         "United-States",
         "<=50K"
        ],
        [
         "29",
         "49",
         "Private",
         "193366",
         "HS-grad",
         "9",
         "Married-civ-spouse",
         "Craft-repair",
         "Husband",
         "White",
         "Male",
         "0",
         "0",
         "40",
         "United-States",
         "<=50K"
        ],
        [
         "30",
         "23",
         "Local-gov",
         "190709",
         "Assoc-acdm",
         "12",
         "Never-married",
         "Protective-serv",
         "Not-in-family",
         "White",
         "Male",
         "0",
         "0",
         "52",
         "United-States",
         "<=50K"
        ],
        [
         "31",
         "20",
         "Private",
         "266015",
         "Some-college",
         "10",
         "Never-married",
         "Sales",
         "Own-child",
         "Black",
         "Male",
         "0",
         "0",
         "44",
         "United-States",
         "<=50K"
        ],
        [
         "32",
         "45",
         "Private",
         "386940",
         "Bachelors",
         "13",
         "Divorced",
         "Exec-managerial",
         "Own-child",
         "White",
         "Male",
         "0",
         "1408",
         "40",
         "United-States",
         "<=50K"
        ],
        [
         "33",
         "30",
         "Federal-gov",
         "59951",
         "Some-college",
         "10",
         "Married-civ-spouse",
         "Adm-clerical",
         "Own-child",
         "White",
         "Male",
         "0",
         "0",
         "40",
         "United-States",
         "<=50K"
        ],
        [
         "34",
         "22",
         "State-gov",
         "311512",
         "Some-college",
         "10",
         "Married-civ-spouse",
         "Other-service",
         "Husband",
         "Black",
         "Male",
         "0",
         "0",
         "15",
         "United-States",
         "<=50K"
        ],
        [
         "35",
         "48",
         "Private",
         "242406",
         "11th",
         "7",
         "Never-married",
         "Machine-op-inspct",
         "Unmarried",
         "White",
         "Male",
         "0",
         "0",
         "40",
         "Puerto-Rico",
         "<=50K"
        ],
        [
         "36",
         "21",
         "Private",
         "197200",
         "Some-college",
         "10",
         "Never-married",
         "Machine-op-inspct",
         "Own-child",
         "White",
         "Male",
         "0",
         "0",
         "40",
         "United-States",
         "<=50K"
        ],
        [
         "37",
         "19",
         "Private",
         "544091",
         "HS-grad",
         "9",
         "Married-AF-spouse",
         "Adm-clerical",
         "Wife",
         "White",
         "Female",
         "0",
         "0",
         "25",
         "United-States",
         "<=50K"
        ],
        [
         "38",
         "31",
         "Private",
         "84154",
         "Some-college",
         "10",
         "Married-civ-spouse",
         "Sales",
         "Husband",
         "White",
         "Male",
         "0",
         "0",
         "38",
         "?",
         ">50K"
        ],
        [
         "39",
         "48",
         "Self-emp-not-inc",
         "265477",
         "Assoc-acdm",
         "12",
         "Married-civ-spouse",
         "Prof-specialty",
         "Husband",
         "White",
         "Male",
         "0",
         "0",
         "40",
         "United-States",
         "<=50K"
        ],
        [
         "40",
         "31",
         "Private",
         "507875",
         "9th",
         "5",
         "Married-civ-spouse",
         "Machine-op-inspct",
         "Husband",
         "White",
         "Male",
         "0",
         "0",
         "43",
         "United-States",
         "<=50K"
        ],
        [
         "41",
         "53",
         "Self-emp-not-inc",
         "88506",
         "Bachelors",
         "13",
         "Married-civ-spouse",
         "Prof-specialty",
         "Husband",
         "White",
         "Male",
         "0",
         "0",
         "40",
         "United-States",
         "<=50K"
        ],
        [
         "42",
         "24",
         "Private",
         "172987",
         "Bachelors",
         "13",
         "Married-civ-spouse",
         "Tech-support",
         "Husband",
         "White",
         "Male",
         "0",
         "0",
         "50",
         "United-States",
         "<=50K"
        ],
        [
         "43",
         "49",
         "Private",
         "94638",
         "HS-grad",
         "9",
         "Separated",
         "Adm-clerical",
         "Unmarried",
         "White",
         "Female",
         "0",
         "0",
         "40",
         "United-States",
         "<=50K"
        ],
        [
         "44",
         "25",
         "Private",
         "289980",
         "HS-grad",
         "9",
         "Never-married",
         "Handlers-cleaners",
         "Not-in-family",
         "White",
         "Male",
         "0",
         "0",
         "35",
         "United-States",
         "<=50K"
        ],
        [
         "45",
         "57",
         "Federal-gov",
         "337895",
         "Bachelors",
         "13",
         "Married-civ-spouse",
         "Prof-specialty",
         "Husband",
         "Black",
         "Male",
         "0",
         "0",
         "40",
         "United-States",
         ">50K"
        ],
        [
         "46",
         "53",
         "Private",
         "144361",
         "HS-grad",
         "9",
         "Married-civ-spouse",
         "Machine-op-inspct",
         "Husband",
         "White",
         "Male",
         "0",
         "0",
         "38",
         "United-States",
         "<=50K"
        ],
        [
         "47",
         "44",
         "Private",
         "128354",
         "Masters",
         "14",
         "Divorced",
         "Exec-managerial",
         "Unmarried",
         "White",
         "Female",
         "0",
         "0",
         "40",
         "United-States",
         "<=50K"
        ],
        [
         "48",
         "41",
         "State-gov",
         "101603",
         "Assoc-voc",
         "11",
         "Married-civ-spouse",
         "Craft-repair",
         "Husband",
         "White",
         "Male",
         "0",
         "0",
         "40",
         "United-States",
         "<=50K"
        ],
        [
         "49",
         "29",
         "Private",
         "271466",
         "Assoc-voc",
         "11",
         "Never-married",
         "Prof-specialty",
         "Not-in-family",
         "White",
         "Male",
         "0",
         "0",
         "43",
         "United-States",
         "<=50K"
        ]
       ],
       "shape": {
        "columns": 15,
        "rows": 32560
       }
      },
      "text/html": [
       "<div>\n",
       "<style scoped>\n",
       "    .dataframe tbody tr th:only-of-type {\n",
       "        vertical-align: middle;\n",
       "    }\n",
       "\n",
       "    .dataframe tbody tr th {\n",
       "        vertical-align: top;\n",
       "    }\n",
       "\n",
       "    .dataframe thead th {\n",
       "        text-align: right;\n",
       "    }\n",
       "</style>\n",
       "<table border=\"1\" class=\"dataframe\">\n",
       "  <thead>\n",
       "    <tr style=\"text-align: right;\">\n",
       "      <th></th>\n",
       "      <th>age</th>\n",
       "      <th>workclass</th>\n",
       "      <th>fnlwgt</th>\n",
       "      <th>education</th>\n",
       "      <th>education-num</th>\n",
       "      <th>marital-status</th>\n",
       "      <th>occupation</th>\n",
       "      <th>relationship</th>\n",
       "      <th>race</th>\n",
       "      <th>sex</th>\n",
       "      <th>capital-gain</th>\n",
       "      <th>capital-loss</th>\n",
       "      <th>hours-per-week</th>\n",
       "      <th>native-country</th>\n",
       "      <th>income</th>\n",
       "    </tr>\n",
       "  </thead>\n",
       "  <tbody>\n",
       "    <tr>\n",
       "      <th>0</th>\n",
       "      <td>39</td>\n",
       "      <td>State-gov</td>\n",
       "      <td>77516</td>\n",
       "      <td>Bachelors</td>\n",
       "      <td>13</td>\n",
       "      <td>Never-married</td>\n",
       "      <td>Adm-clerical</td>\n",
       "      <td>Not-in-family</td>\n",
       "      <td>White</td>\n",
       "      <td>Male</td>\n",
       "      <td>2174</td>\n",
       "      <td>0</td>\n",
       "      <td>40</td>\n",
       "      <td>United-States</td>\n",
       "      <td>&lt;=50K</td>\n",
       "    </tr>\n",
       "    <tr>\n",
       "      <th>1</th>\n",
       "      <td>50</td>\n",
       "      <td>Self-emp-not-inc</td>\n",
       "      <td>83311</td>\n",
       "      <td>Bachelors</td>\n",
       "      <td>13</td>\n",
       "      <td>Married-civ-spouse</td>\n",
       "      <td>Exec-managerial</td>\n",
       "      <td>Husband</td>\n",
       "      <td>White</td>\n",
       "      <td>Male</td>\n",
       "      <td>0</td>\n",
       "      <td>0</td>\n",
       "      <td>13</td>\n",
       "      <td>United-States</td>\n",
       "      <td>&lt;=50K</td>\n",
       "    </tr>\n",
       "    <tr>\n",
       "      <th>2</th>\n",
       "      <td>38</td>\n",
       "      <td>Private</td>\n",
       "      <td>215646</td>\n",
       "      <td>HS-grad</td>\n",
       "      <td>9</td>\n",
       "      <td>Divorced</td>\n",
       "      <td>Handlers-cleaners</td>\n",
       "      <td>Not-in-family</td>\n",
       "      <td>White</td>\n",
       "      <td>Male</td>\n",
       "      <td>0</td>\n",
       "      <td>0</td>\n",
       "      <td>40</td>\n",
       "      <td>United-States</td>\n",
       "      <td>&lt;=50K</td>\n",
       "    </tr>\n",
       "    <tr>\n",
       "      <th>3</th>\n",
       "      <td>53</td>\n",
       "      <td>Private</td>\n",
       "      <td>234721</td>\n",
       "      <td>11th</td>\n",
       "      <td>7</td>\n",
       "      <td>Married-civ-spouse</td>\n",
       "      <td>Handlers-cleaners</td>\n",
       "      <td>Husband</td>\n",
       "      <td>Black</td>\n",
       "      <td>Male</td>\n",
       "      <td>0</td>\n",
       "      <td>0</td>\n",
       "      <td>40</td>\n",
       "      <td>United-States</td>\n",
       "      <td>&lt;=50K</td>\n",
       "    </tr>\n",
       "    <tr>\n",
       "      <th>4</th>\n",
       "      <td>28</td>\n",
       "      <td>Private</td>\n",
       "      <td>338409</td>\n",
       "      <td>Bachelors</td>\n",
       "      <td>13</td>\n",
       "      <td>Married-civ-spouse</td>\n",
       "      <td>Prof-specialty</td>\n",
       "      <td>Wife</td>\n",
       "      <td>Black</td>\n",
       "      <td>Female</td>\n",
       "      <td>0</td>\n",
       "      <td>0</td>\n",
       "      <td>40</td>\n",
       "      <td>Cuba</td>\n",
       "      <td>&lt;=50K</td>\n",
       "    </tr>\n",
       "    <tr>\n",
       "      <th>...</th>\n",
       "      <td>...</td>\n",
       "      <td>...</td>\n",
       "      <td>...</td>\n",
       "      <td>...</td>\n",
       "      <td>...</td>\n",
       "      <td>...</td>\n",
       "      <td>...</td>\n",
       "      <td>...</td>\n",
       "      <td>...</td>\n",
       "      <td>...</td>\n",
       "      <td>...</td>\n",
       "      <td>...</td>\n",
       "      <td>...</td>\n",
       "      <td>...</td>\n",
       "      <td>...</td>\n",
       "    </tr>\n",
       "    <tr>\n",
       "      <th>32555</th>\n",
       "      <td>22</td>\n",
       "      <td>Private</td>\n",
       "      <td>310152</td>\n",
       "      <td>Some-college</td>\n",
       "      <td>10</td>\n",
       "      <td>Never-married</td>\n",
       "      <td>Protective-serv</td>\n",
       "      <td>Not-in-family</td>\n",
       "      <td>White</td>\n",
       "      <td>Male</td>\n",
       "      <td>0</td>\n",
       "      <td>0</td>\n",
       "      <td>40</td>\n",
       "      <td>United-States</td>\n",
       "      <td>&lt;=50K</td>\n",
       "    </tr>\n",
       "    <tr>\n",
       "      <th>32556</th>\n",
       "      <td>27</td>\n",
       "      <td>Private</td>\n",
       "      <td>257302</td>\n",
       "      <td>Assoc-acdm</td>\n",
       "      <td>12</td>\n",
       "      <td>Married-civ-spouse</td>\n",
       "      <td>Tech-support</td>\n",
       "      <td>Wife</td>\n",
       "      <td>White</td>\n",
       "      <td>Female</td>\n",
       "      <td>0</td>\n",
       "      <td>0</td>\n",
       "      <td>38</td>\n",
       "      <td>United-States</td>\n",
       "      <td>&lt;=50K</td>\n",
       "    </tr>\n",
       "    <tr>\n",
       "      <th>32557</th>\n",
       "      <td>40</td>\n",
       "      <td>Private</td>\n",
       "      <td>154374</td>\n",
       "      <td>HS-grad</td>\n",
       "      <td>9</td>\n",
       "      <td>Married-civ-spouse</td>\n",
       "      <td>Machine-op-inspct</td>\n",
       "      <td>Husband</td>\n",
       "      <td>White</td>\n",
       "      <td>Male</td>\n",
       "      <td>0</td>\n",
       "      <td>0</td>\n",
       "      <td>40</td>\n",
       "      <td>United-States</td>\n",
       "      <td>&gt;50K</td>\n",
       "    </tr>\n",
       "    <tr>\n",
       "      <th>32558</th>\n",
       "      <td>58</td>\n",
       "      <td>Private</td>\n",
       "      <td>151910</td>\n",
       "      <td>HS-grad</td>\n",
       "      <td>9</td>\n",
       "      <td>Widowed</td>\n",
       "      <td>Adm-clerical</td>\n",
       "      <td>Unmarried</td>\n",
       "      <td>White</td>\n",
       "      <td>Female</td>\n",
       "      <td>0</td>\n",
       "      <td>0</td>\n",
       "      <td>40</td>\n",
       "      <td>United-States</td>\n",
       "      <td>&lt;=50K</td>\n",
       "    </tr>\n",
       "    <tr>\n",
       "      <th>32559</th>\n",
       "      <td>22</td>\n",
       "      <td>Private</td>\n",
       "      <td>201490</td>\n",
       "      <td>HS-grad</td>\n",
       "      <td>9</td>\n",
       "      <td>Never-married</td>\n",
       "      <td>Adm-clerical</td>\n",
       "      <td>Own-child</td>\n",
       "      <td>White</td>\n",
       "      <td>Male</td>\n",
       "      <td>0</td>\n",
       "      <td>0</td>\n",
       "      <td>20</td>\n",
       "      <td>United-States</td>\n",
       "      <td>&lt;=50K</td>\n",
       "    </tr>\n",
       "  </tbody>\n",
       "</table>\n",
       "<p>32560 rows × 15 columns</p>\n",
       "</div>"
      ],
      "text/plain": [
       "       age         workclass  fnlwgt     education  education-num  \\\n",
       "0       39         State-gov   77516     Bachelors             13   \n",
       "1       50  Self-emp-not-inc   83311     Bachelors             13   \n",
       "2       38           Private  215646       HS-grad              9   \n",
       "3       53           Private  234721          11th              7   \n",
       "4       28           Private  338409     Bachelors             13   \n",
       "...    ...               ...     ...           ...            ...   \n",
       "32555   22           Private  310152  Some-college             10   \n",
       "32556   27           Private  257302    Assoc-acdm             12   \n",
       "32557   40           Private  154374       HS-grad              9   \n",
       "32558   58           Private  151910       HS-grad              9   \n",
       "32559   22           Private  201490       HS-grad              9   \n",
       "\n",
       "           marital-status         occupation   relationship   race     sex  \\\n",
       "0           Never-married       Adm-clerical  Not-in-family  White    Male   \n",
       "1      Married-civ-spouse    Exec-managerial        Husband  White    Male   \n",
       "2                Divorced  Handlers-cleaners  Not-in-family  White    Male   \n",
       "3      Married-civ-spouse  Handlers-cleaners        Husband  Black    Male   \n",
       "4      Married-civ-spouse     Prof-specialty           Wife  Black  Female   \n",
       "...                   ...                ...            ...    ...     ...   \n",
       "32555       Never-married    Protective-serv  Not-in-family  White    Male   \n",
       "32556  Married-civ-spouse       Tech-support           Wife  White  Female   \n",
       "32557  Married-civ-spouse  Machine-op-inspct        Husband  White    Male   \n",
       "32558             Widowed       Adm-clerical      Unmarried  White  Female   \n",
       "32559       Never-married       Adm-clerical      Own-child  White    Male   \n",
       "\n",
       "       capital-gain  capital-loss  hours-per-week native-country income  \n",
       "0              2174             0              40  United-States  <=50K  \n",
       "1                 0             0              13  United-States  <=50K  \n",
       "2                 0             0              40  United-States  <=50K  \n",
       "3                 0             0              40  United-States  <=50K  \n",
       "4                 0             0              40           Cuba  <=50K  \n",
       "...             ...           ...             ...            ...    ...  \n",
       "32555             0             0              40  United-States  <=50K  \n",
       "32556             0             0              38  United-States  <=50K  \n",
       "32557             0             0              40  United-States   >50K  \n",
       "32558             0             0              40  United-States  <=50K  \n",
       "32559             0             0              20  United-States  <=50K  \n",
       "\n",
       "[32560 rows x 15 columns]"
      ]
     },
     "execution_count": 115,
     "metadata": {},
     "output_type": "execute_result"
    }
   ],
   "source": [
    "dataset.columns = [\"age\", \"workclass\", \"fnlwgt\", \"education\",\"education-num\", \"marital-status\", \"occupation\", \"relationship\", \"race\", \"sex\", \"capital-gain\", \"capital-loss\", \"hours-per-week\", \"native-country\", \"income\"]\n",
    "dataset\n"
   ]
  },
  {
   "cell_type": "markdown",
   "metadata": {},
   "source": [
    "#### **4.2 - Tratando Valores Incoerentes:**"
   ]
  },
  {
   "cell_type": "markdown",
   "metadata": {},
   "source": [
    "##### **4.2.1 - workclass:**"
   ]
  },
  {
   "cell_type": "code",
   "execution_count": 116,
   "metadata": {},
   "outputs": [
    {
     "data": {
      "text/plain": [
       "workclass\n",
       "Private             22696\n",
       "Self-emp-not-inc     2541\n",
       "Local-gov            2093\n",
       "?                    1836\n",
       "State-gov            1298\n",
       "Self-emp-inc         1115\n",
       "Federal-gov           960\n",
       "Without-pay            14\n",
       "Never-worked            7\n",
       "Name: count, dtype: int64"
      ]
     },
     "execution_count": 116,
     "metadata": {},
     "output_type": "execute_result"
    }
   ],
   "source": [
    "dataset[\"workclass\"].value_counts()"
   ]
  },
  {
   "cell_type": "markdown",
   "metadata": {},
   "source": [
    "**1836** registros com o atributo \"?\"."
   ]
  },
  {
   "cell_type": "code",
   "execution_count": 117,
   "metadata": {},
   "outputs": [],
   "source": [
    "dataset.loc[dataset[\"workclass\"] == \" ?\", \"workclass\"] = \"Private\""
   ]
  },
  {
   "cell_type": "code",
   "execution_count": 118,
   "metadata": {},
   "outputs": [
    {
     "data": {
      "text/plain": [
       "workclass\n",
       "Private             22696\n",
       "Self-emp-not-inc     2541\n",
       "Local-gov            2093\n",
       "?                    1836\n",
       "State-gov            1298\n",
       "Self-emp-inc         1115\n",
       "Federal-gov           960\n",
       "Without-pay            14\n",
       "Never-worked            7\n",
       "Name: count, dtype: int64"
      ]
     },
     "execution_count": 118,
     "metadata": {},
     "output_type": "execute_result"
    }
   ],
   "source": [
    "dataset[\"workclass\"].value_counts()"
   ]
  },
  {
   "cell_type": "markdown",
   "metadata": {},
   "source": [
    "##### **4.2.2 - occupation:**"
   ]
  },
  {
   "cell_type": "code",
   "execution_count": 119,
   "metadata": {},
   "outputs": [
    {
     "data": {
      "text/plain": [
       "occupation\n",
       "Prof-specialty       4140\n",
       "Craft-repair         4099\n",
       "Exec-managerial      4065\n",
       "Adm-clerical         3770\n",
       "Sales                3650\n",
       "Other-service        3295\n",
       "Machine-op-inspct    2002\n",
       "?                    1843\n",
       "Transport-moving     1597\n",
       "Handlers-cleaners    1370\n",
       "Farming-fishing       994\n",
       "Tech-support          928\n",
       "Protective-serv       649\n",
       "Priv-house-serv       149\n",
       "Armed-Forces            9\n",
       "Name: count, dtype: int64"
      ]
     },
     "execution_count": 119,
     "metadata": {},
     "output_type": "execute_result"
    }
   ],
   "source": [
    "dataset[\"occupation\"].value_counts()"
   ]
  },
  {
   "cell_type": "markdown",
   "metadata": {},
   "source": [
    "**1843** registros com o atributo \"?\"."
   ]
  },
  {
   "cell_type": "code",
   "execution_count": 120,
   "metadata": {},
   "outputs": [],
   "source": [
    "dataset.loc[dataset[\"occupation\"] == \"?\", \"occupation\"] = \"Prof-specialty\""
   ]
  },
  {
   "cell_type": "code",
   "execution_count": 121,
   "metadata": {},
   "outputs": [
    {
     "data": {
      "text/plain": [
       "occupation\n",
       "Prof-specialty       5983\n",
       "Craft-repair         4099\n",
       "Exec-managerial      4065\n",
       "Adm-clerical         3770\n",
       "Sales                3650\n",
       "Other-service        3295\n",
       "Machine-op-inspct    2002\n",
       "Transport-moving     1597\n",
       "Handlers-cleaners    1370\n",
       "Farming-fishing       994\n",
       "Tech-support          928\n",
       "Protective-serv       649\n",
       "Priv-house-serv       149\n",
       "Armed-Forces            9\n",
       "Name: count, dtype: int64"
      ]
     },
     "execution_count": 121,
     "metadata": {},
     "output_type": "execute_result"
    }
   ],
   "source": [
    "dataset[\"occupation\"].value_counts()"
   ]
  },
  {
   "cell_type": "markdown",
   "metadata": {},
   "source": [
    "##### **4.3.3 - native-country:**"
   ]
  },
  {
   "cell_type": "code",
   "execution_count": 122,
   "metadata": {},
   "outputs": [
    {
     "data": {
      "text/plain": [
       "native-country\n",
       "United-States                 29169\n",
       "Mexico                          643\n",
       "?                               583\n",
       "Philippines                     198\n",
       "Germany                         137\n",
       "Canada                          121\n",
       "Puerto-Rico                     114\n",
       "El-Salvador                     106\n",
       "India                           100\n",
       "Cuba                             95\n",
       "England                          90\n",
       "Jamaica                          81\n",
       "South                            80\n",
       "China                            75\n",
       "Italy                            73\n",
       "Dominican-Republic               70\n",
       "Vietnam                          67\n",
       "Guatemala                        64\n",
       "Japan                            62\n",
       "Poland                           60\n",
       "Columbia                         59\n",
       "Taiwan                           51\n",
       "Haiti                            44\n",
       "Iran                             43\n",
       "Portugal                         37\n",
       "Nicaragua                        34\n",
       "Peru                             31\n",
       "France                           29\n",
       "Greece                           29\n",
       "Ecuador                          28\n",
       "Ireland                          24\n",
       "Hong                             20\n",
       "Trinadad&Tobago                  19\n",
       "Cambodia                         19\n",
       "Thailand                         18\n",
       "Laos                             18\n",
       "Yugoslavia                       16\n",
       "Outlying-US(Guam-USVI-etc)       14\n",
       "Honduras                         13\n",
       "Hungary                          13\n",
       "Scotland                         12\n",
       "Holand-Netherlands                1\n",
       "Name: count, dtype: int64"
      ]
     },
     "execution_count": 122,
     "metadata": {},
     "output_type": "execute_result"
    }
   ],
   "source": [
    "dataset[\"native-country\"].value_counts()"
   ]
  },
  {
   "cell_type": "markdown",
   "metadata": {},
   "source": [
    "**583** registros com o atributo \"?\"."
   ]
  },
  {
   "cell_type": "code",
   "execution_count": 123,
   "metadata": {},
   "outputs": [],
   "source": [
    "dataset.loc[dataset[\"native-country\"] == \"?\", \"native-country\"] = \"United-States\""
   ]
  },
  {
   "cell_type": "code",
   "execution_count": 124,
   "metadata": {},
   "outputs": [
    {
     "data": {
      "text/plain": [
       "native-country\n",
       "United-States                 29752\n",
       "Mexico                          643\n",
       "Philippines                     198\n",
       "Germany                         137\n",
       "Canada                          121\n",
       "Puerto-Rico                     114\n",
       "El-Salvador                     106\n",
       "India                           100\n",
       "Cuba                             95\n",
       "England                          90\n",
       "Jamaica                          81\n",
       "South                            80\n",
       "China                            75\n",
       "Italy                            73\n",
       "Dominican-Republic               70\n",
       "Vietnam                          67\n",
       "Guatemala                        64\n",
       "Japan                            62\n",
       "Poland                           60\n",
       "Columbia                         59\n",
       "Taiwan                           51\n",
       "Haiti                            44\n",
       "Iran                             43\n",
       "Portugal                         37\n",
       "Nicaragua                        34\n",
       "Peru                             31\n",
       "France                           29\n",
       "Greece                           29\n",
       "Ecuador                          28\n",
       "Ireland                          24\n",
       "Hong                             20\n",
       "Trinadad&Tobago                  19\n",
       "Cambodia                         19\n",
       "Thailand                         18\n",
       "Laos                             18\n",
       "Yugoslavia                       16\n",
       "Outlying-US(Guam-USVI-etc)       14\n",
       "Honduras                         13\n",
       "Hungary                          13\n",
       "Scotland                         12\n",
       "Holand-Netherlands                1\n",
       "Name: count, dtype: int64"
      ]
     },
     "execution_count": 124,
     "metadata": {},
     "output_type": "execute_result"
    }
   ],
   "source": [
    "dataset[\"native-country\"].value_counts()"
   ]
  },
  {
   "cell_type": "code",
   "execution_count": 125,
   "metadata": {},
   "outputs": [],
   "source": [
    "dataset.to_csv(\"adult_data_processed.csv\", index=False)"
   ]
  },
  {
   "cell_type": "code",
   "execution_count": 126,
   "metadata": {},
   "outputs": [
    {
     "name": "stdout",
     "output_type": "stream",
     "text": [
      "<class 'pandas.core.frame.DataFrame'>\n",
      "RangeIndex: 32560 entries, 0 to 32559\n",
      "Data columns (total 15 columns):\n",
      " #   Column          Non-Null Count  Dtype \n",
      "---  ------          --------------  ----- \n",
      " 0   age             32560 non-null  int64 \n",
      " 1   workclass       32560 non-null  object\n",
      " 2   fnlwgt          32560 non-null  int64 \n",
      " 3   education       32560 non-null  object\n",
      " 4   education-num   32560 non-null  int64 \n",
      " 5   marital-status  32560 non-null  object\n",
      " 6   occupation      32560 non-null  object\n",
      " 7   relationship    32560 non-null  object\n",
      " 8   race            32560 non-null  object\n",
      " 9   sex             32560 non-null  object\n",
      " 10  capital-gain    32560 non-null  int64 \n",
      " 11  capital-loss    32560 non-null  int64 \n",
      " 12  hours-per-week  32560 non-null  int64 \n",
      " 13  native-country  32560 non-null  object\n",
      " 14  income          32560 non-null  object\n",
      "dtypes: int64(6), object(9)\n",
      "memory usage: 3.7+ MB\n"
     ]
    }
   ],
   "source": [
    "dataset.info()"
   ]
  },
  {
   "cell_type": "markdown",
   "metadata": {},
   "source": [
    "#### **4.5 - Pré-processamento dos Dados:**"
   ]
  },
  {
   "cell_type": "markdown",
   "metadata": {},
   "source": [
    "##### **4.5.1 Separando os Dados:**"
   ]
  },
  {
   "cell_type": "code",
   "execution_count": 127,
   "metadata": {},
   "outputs": [],
   "source": [
    "# Ferramentas para Pré-Processamento\n",
    "\n",
    "from sklearn.preprocessing import  MinMaxScaler, OrdinalEncoder, LabelEncoder\n",
    "from sklearn.compose import ColumnTransformer\n",
    "from sklearn.pipeline import Pipeline\n",
    "from sklearn.model_selection import train_test_split\n"
   ]
  },
  {
   "cell_type": "code",
   "execution_count": 128,
   "metadata": {},
   "outputs": [
    {
     "data": {
      "text/plain": [
       "array([[39, 'State-gov', 77516, ..., 0, 40, 'United-States'],\n",
       "       [50, 'Self-emp-not-inc', 83311, ..., 0, 13, 'United-States'],\n",
       "       [38, 'Private', 215646, ..., 0, 40, 'United-States'],\n",
       "       ...,\n",
       "       [40, 'Private', 154374, ..., 0, 40, 'United-States'],\n",
       "       [58, 'Private', 151910, ..., 0, 40, 'United-States'],\n",
       "       [22, 'Private', 201490, ..., 0, 20, 'United-States']],\n",
       "      shape=(32560, 14), dtype=object)"
      ]
     },
     "metadata": {},
     "output_type": "display_data"
    },
    {
     "data": {
      "text/plain": [
       "array(['<=50K', '<=50K', '<=50K', ..., '>50K', '<=50K', '<=50K'],\n",
       "      shape=(32560,), dtype=object)"
      ]
     },
     "metadata": {},
     "output_type": "display_data"
    }
   ],
   "source": [
    "x_features = dataset.iloc[:, 0:14].values\n",
    "y_class = dataset.iloc[:, 14].values\n",
    "\n",
    "display(x_features, y_class)"
   ]
  },
  {
   "cell_type": "markdown",
   "metadata": {},
   "source": [
    "##### **4.5.2 - Codificando a Base de Dados:**"
   ]
  },
  {
   "cell_type": "code",
   "execution_count": 129,
   "metadata": {},
   "outputs": [
    {
     "name": "stdout",
     "output_type": "stream",
     "text": [
      "<class 'pandas.core.frame.DataFrame'>\n",
      "RangeIndex: 32560 entries, 0 to 32559\n",
      "Data columns (total 15 columns):\n",
      " #   Column          Non-Null Count  Dtype \n",
      "---  ------          --------------  ----- \n",
      " 0   age             32560 non-null  int64 \n",
      " 1   workclass       32560 non-null  object\n",
      " 2   fnlwgt          32560 non-null  int64 \n",
      " 3   education       32560 non-null  object\n",
      " 4   education-num   32560 non-null  int64 \n",
      " 5   marital-status  32560 non-null  object\n",
      " 6   occupation      32560 non-null  object\n",
      " 7   relationship    32560 non-null  object\n",
      " 8   race            32560 non-null  object\n",
      " 9   sex             32560 non-null  object\n",
      " 10  capital-gain    32560 non-null  int64 \n",
      " 11  capital-loss    32560 non-null  int64 \n",
      " 12  hours-per-week  32560 non-null  int64 \n",
      " 13  native-country  32560 non-null  object\n",
      " 14  income          32560 non-null  object\n",
      "dtypes: int64(6), object(9)\n",
      "memory usage: 3.7+ MB\n"
     ]
    }
   ],
   "source": [
    "dataset.info()"
   ]
  },
  {
   "cell_type": "code",
   "execution_count": 130,
   "metadata": {},
   "outputs": [
    {
     "name": "stdout",
     "output_type": "stream",
     "text": [
      "[1, 3, 5, 6, 7, 8, 9, 13]\n"
     ]
    }
   ],
   "source": [
    "object_index = []\n",
    "for i in range(len(dataset.columns) - 1) :\n",
    "    if dataset.dtypes.iloc[i] == \"object\":\n",
    "        object_index.append(i)\n",
    "\n",
    "print(object_index)"
   ]
  },
  {
   "cell_type": "code",
   "execution_count": 131,
   "metadata": {},
   "outputs": [],
   "source": [
    "encoder_y = LabelEncoder()\n",
    "\n",
    "y_class = encoder.fit_transform(y_class)"
   ]
  },
  {
   "cell_type": "code",
   "execution_count": 132,
   "metadata": {},
   "outputs": [
    {
     "data": {
      "text/plain": [
       "array([[39, 'State-gov', 77516, ..., 0, 40, 'United-States'],\n",
       "       [50, 'Self-emp-not-inc', 83311, ..., 0, 13, 'United-States'],\n",
       "       [38, 'Private', 215646, ..., 0, 40, 'United-States'],\n",
       "       ...,\n",
       "       [40, 'Private', 154374, ..., 0, 40, 'United-States'],\n",
       "       [58, 'Private', 151910, ..., 0, 40, 'United-States'],\n",
       "       [22, 'Private', 201490, ..., 0, 20, 'United-States']],\n",
       "      shape=(32560, 14), dtype=object)"
      ]
     },
     "metadata": {},
     "output_type": "display_data"
    },
    {
     "data": {
      "text/plain": [
       "array([0, 0, 0, ..., 1, 0, 0], shape=(32560,))"
      ]
     },
     "metadata": {},
     "output_type": "display_data"
    }
   ],
   "source": [
    "display(x_features, y_class)"
   ]
  },
  {
   "cell_type": "markdown",
   "metadata": {},
   "source": [
    "- <=50K: 0 \n",
    "- \\>50K: 1"
   ]
  },
  {
   "cell_type": "markdown",
   "metadata": {},
   "source": [
    "##### **4.5.3 - Padronização dos Valores Codificados:**"
   ]
  },
  {
   "cell_type": "code",
   "execution_count": 133,
   "metadata": {},
   "outputs": [],
   "source": [
    "scale_minmax = MinMaxScaler()                          # Distribuição Não Normal"
   ]
  },
  {
   "cell_type": "code",
   "execution_count": 134,
   "metadata": {},
   "outputs": [
    {
     "data": {
      "text/plain": [
       "[1, 3, 5, 6, 7, 8, 9, 13]"
      ]
     },
     "execution_count": 134,
     "metadata": {},
     "output_type": "execute_result"
    }
   ],
   "source": [
    "object_index"
   ]
  },
  {
   "cell_type": "code",
   "execution_count": 135,
   "metadata": {},
   "outputs": [
    {
     "data": {
      "text/plain": [
       "(array([[ 0.30136986,  0.0443019 ,  0.8       , ...,  4.        ,\n",
       "          1.        , 38.        ],\n",
       "        [ 0.45205479,  0.0482376 ,  0.8       , ...,  4.        ,\n",
       "          1.        , 38.        ],\n",
       "        [ 0.28767123,  0.13811345,  0.53333333, ...,  4.        ,\n",
       "          1.        , 38.        ],\n",
       "        ...,\n",
       "        [ 0.31506849,  0.09650032,  0.53333333, ...,  4.        ,\n",
       "          1.        , 38.        ],\n",
       "        [ 0.56164384,  0.09482688,  0.53333333, ...,  4.        ,\n",
       "          0.        , 38.        ],\n",
       "        [ 0.06849315,  0.12849934,  0.53333333, ...,  4.        ,\n",
       "          1.        , 38.        ]], shape=(32560, 14)),\n",
       " array([0, 0, 0, ..., 1, 0, 0], shape=(32560,)))"
      ]
     },
     "execution_count": 135,
     "metadata": {},
     "output_type": "execute_result"
    }
   ],
   "source": [
    "preprocessor_x = ColumnTransformer( \n",
    "    transformers=[ \n",
    "        ('MinMax', scale_minmax, [0, 2, 4, 10, 11, 12]),\n",
    "        ('Ordinal', OrdinalEncoder(), object_index)\n",
    "    ], \n",
    "    remainder='passthrough')\n",
    "\n",
    "x_features = preprocessor_x.fit_transform(x_features)\n",
    "\n",
    "x_features, y_class"
   ]
  },
  {
   "cell_type": "code",
   "execution_count": 136,
   "metadata": {},
   "outputs": [
    {
     "data": {
      "text/plain": [
       "((32560, 14), (32560,))"
      ]
     },
     "execution_count": 136,
     "metadata": {},
     "output_type": "execute_result"
    }
   ],
   "source": [
    "x_features.shape, y_class.shape"
   ]
  },
  {
   "cell_type": "markdown",
   "metadata": {},
   "source": [
    "##### **4.5.4 - Aplicando Oversampling para problemas de Desbalanceamento:**"
   ]
  },
  {
   "cell_type": "code",
   "execution_count": 137,
   "metadata": {},
   "outputs": [
    {
     "data": {
      "text/plain": [
       "array([[ 0.30136986,  0.0443019 ,  0.8       , ...,  4.        ,\n",
       "         1.        , 38.        ],\n",
       "       [ 0.45205479,  0.0482376 ,  0.8       , ...,  4.        ,\n",
       "         1.        , 38.        ],\n",
       "       [ 0.28767123,  0.13811345,  0.53333333, ...,  4.        ,\n",
       "         1.        , 38.        ],\n",
       "       ...,\n",
       "       [ 0.42652963,  0.14796305,  0.6       , ...,  2.88633373,\n",
       "         1.        , 38.        ],\n",
       "       [ 0.62088293,  0.21888932,  0.86666667, ...,  4.        ,\n",
       "         1.        , 38.        ],\n",
       "       [ 0.22355727,  0.17641592,  0.6       , ...,  4.        ,\n",
       "         1.        , 38.        ]], shape=(49440, 14))"
      ]
     },
     "execution_count": 137,
     "metadata": {},
     "output_type": "execute_result"
    }
   ],
   "source": [
    "from imblearn.over_sampling import SMOTE\n",
    "\n",
    "smt = SMOTE(sampling_strategy = 'minority')\n",
    "x_features, y_class = smt.fit_resample(x_features, y_class)\n",
    "x_features"
   ]
  },
  {
   "cell_type": "code",
   "execution_count": 138,
   "metadata": {},
   "outputs": [],
   "source": [
    "x_train, x_test, y_train, y_test = train_test_split(x_features, y_class, test_size=0.15)"
   ]
  },
  {
   "cell_type": "code",
   "execution_count": 139,
   "metadata": {},
   "outputs": [
    {
     "data": {
      "text/plain": [
       "(42024, 14)"
      ]
     },
     "metadata": {},
     "output_type": "display_data"
    },
    {
     "data": {
      "text/plain": [
       "(7416, 14)"
      ]
     },
     "metadata": {},
     "output_type": "display_data"
    },
    {
     "data": {
      "text/plain": [
       "(42024,)"
      ]
     },
     "metadata": {},
     "output_type": "display_data"
    },
    {
     "data": {
      "text/plain": [
       "(7416,)"
      ]
     },
     "metadata": {},
     "output_type": "display_data"
    }
   ],
   "source": [
    "display(x_train.shape, x_test.shape, y_train.shape, y_test.shape)"
   ]
  },
  {
   "cell_type": "markdown",
   "metadata": {},
   "source": [
    " ### **Selecionando as Melhores Features:**"
   ]
  },
  {
   "cell_type": "markdown",
   "metadata": {},
   "source": [
    "- Optei por criar um arquivo a parte para uma melhor organização e para que o treinamento principal seja objetivo. No entanto, além de selecionar as features iremos realizar um treinamento com os modelos para verificar se há perca de desempenho."
   ]
  },
  {
   "cell_type": "markdown",
   "metadata": {},
   "source": [
    "- Entretanto, após aplicar métodos para encontrar as melhores features, percebesse que o desempenho dos algoritmos permanece o mesmo ou até perde um pouco em relação se permanecesse todas as features na base de dados. Com isso, para o treinamento definitivo iremos permanecer todas elas.\n"
   ]
  },
  {
   "cell_type": "markdown",
   "metadata": {},
   "source": [
    "<a href=\"2feature_importance.ipynb\">Direcionando para o arquivo de seleção de features</a>"
   ]
  },
  {
   "cell_type": "markdown",
   "metadata": {},
   "source": [
    "### **5- Explorar vários modelos:**"
   ]
  },
  {
   "cell_type": "code",
   "execution_count": 140,
   "metadata": {},
   "outputs": [],
   "source": [
    "from sklearn.metrics import confusion_matrix, accuracy_score, classification_report, roc_curve, roc_auc_score, f1_score\n",
    "import matplotlib.pyplot as plt\n",
    "import seaborn as sn\n",
    "import pickle as pkl\n"
   ]
  },
  {
   "cell_type": "code",
   "execution_count": 141,
   "metadata": {},
   "outputs": [],
   "source": [
    "def PerformanceMetrics(y_true, predict, class_name):\n",
    "\n",
    "    # Imprime Matriz de Confusão:\n",
    "    confusion_matrix_df = pd.DataFrame(\n",
    "        confusion_matrix(y_true, predict), \n",
    "        index=class_name, \n",
    "        columns=class_name\n",
    "    )\n",
    "\n",
    "    plt.figure(figsize=(5,3))\n",
    "    sn.set_theme(font_scale=0.9)\n",
    "    sn.heatmap(confusion_matrix_df, annot=True, fmt=\"d\", cmap=\"Blues\", cbar=False)\n",
    "\n",
    "\n",
    "    # Imprime a Acurácia:\n",
    "    print(f\"A acurácia geral do modelo em relação a todos os dados foi de aproximadamente {accuracy_score(y_true, predict) * 100:.2f}%.\")\n",
    "    for i, label in enumerate(class_name):\n",
    "        print(f\"O modelo identificou corretamente {confusion_matrix_df.values[i][i]} registros com o rótulo '{label}'.\")\n",
    "\n",
    "    \n",
    "    # Imprime Gráfico da Curva ROC\n",
    "    fpr, tpr, thresholds = roc_curve(y_true, predict)\n",
    "    auc = roc_auc_score(y_true, predict)\n",
    "    plt.figure(figsize=(5,3))\n",
    "\n",
    "    plt.plot(fpr, tpr, label=f'AUC = {auc:.2f}', color='blue')\n",
    "    plt.plot([0, 1], [0, 1], linestyle='--', color='gray')  \n",
    "    \n",
    "    plt.xlabel('Taxa de Falsos Positivos (FPR)', fontsize=12)\n",
    "    plt.ylabel('Taxa de Verdadeiros Positivos (TPR)', fontsize=12)\n",
    "    plt.title('Curva ROC', fontsize=14)\n",
    "    plt.legend(loc='lower right')\n",
    "    plt.grid()\n",
    "    plt.show()"
   ]
  },
  {
   "cell_type": "markdown",
   "metadata": {},
   "source": [
    "Na documentação da base de dados, foi indicado usar os seguintes tipos de modelos:\n",
    "\n",
    "  - Gradient Boosting Classifier \n",
    "  - Support Vector Machines \n",
    "  - Random Forest Classifier \n",
    "  - Neural Network Classification\n",
    "  - Logistic Regression \n",
    "\n",
    "No entanto, como analisado anteriormente, no atributo \"Income\" há um desbalanceamento de classes aonde pode ocasionar em uma generalização excessiva para rendas menores ou iguais a U$50K. Com isto, será utilizado um algoritmo da biblioteca imblearn chamado:\n",
    "\n",
    "   - Balanced Random Forest Classifier \n",
    "\n",
    "Porque utiliza-lo?\n",
    "- o Balanced Random Forest ele possui o mesmo funcionamento que o Random Forest tradicional, porém ele realiza uma subamostragem da classe majoritária para que cada árvore obtenha um conjunto de dados equilibrado entre as classes majoritária e minoritária. Ou seja, esse algoritmo combina técnicas de **undersampling** com o algoritmo **Random Forest** para as previsões."
   ]
  },
  {
   "cell_type": "code",
   "execution_count": 142,
   "metadata": {},
   "outputs": [],
   "source": [
    "from sklearn.linear_model import LogisticRegression\n",
    "from sklearn.neighbors import KNeighborsClassifier\n",
    "from sklearn.ensemble import RandomForestClassifier, GradientBoostingClassifier\n",
    "from sklearn.neural_network import MLPClassifier\n",
    "from sklearn.svm import SVC\n",
    "from sklearn.model_selection import GridSearchCV\n",
    "from imblearn.ensemble import BalancedRandomForestClassifier"
   ]
  },
  {
   "cell_type": "markdown",
   "metadata": {},
   "source": [
    "##### **6.1 - Regressão Logítica:**"
   ]
  },
  {
   "cell_type": "code",
   "execution_count": 143,
   "metadata": {},
   "outputs": [],
   "source": [
    "f1_scores = []\n",
    "model_names = []"
   ]
  },
  {
   "cell_type": "code",
   "execution_count": 144,
   "metadata": {},
   "outputs": [],
   "source": [
    "modelo_logistica = LogisticRegression(solver='liblinear')\n",
    "modelo_logistica.fit(x_train, y_train)\n",
    "previsao_log = modelo_logistica.predict(x_test)"
   ]
  },
  {
   "cell_type": "code",
   "execution_count": 145,
   "metadata": {},
   "outputs": [
    {
     "name": "stdout",
     "output_type": "stream",
     "text": [
      "A acurácia geral do modelo em relação a todos os dados foi de aproximadamente 76.35%.\n",
      "O modelo identificou corretamente 2825 registros com o rótulo '<=50K'.\n",
      "O modelo identificou corretamente 2837 registros com o rótulo '>50'.\n"
     ]
    },
    {
     "data": {
      "image/png": "[encoded data removed]",
      "text/plain": [
       "<Figure size 500x300 with 1 Axes>"
      ]
     },
     "metadata": {},
     "output_type": "display_data"
    },
    {
     "data": {
      "image/png": "[encoded data removed]",
      "text/plain": [
       "<Figure size 500x300 with 1 Axes>"
      ]
     },
     "metadata": {},
     "output_type": "display_data"
    }
   ],
   "source": [
    "PerformanceMetrics(y_test, previsao_log, [\"<=50K\", \">50\"])"
   ]
  },
  {
   "cell_type": "code",
   "execution_count": 146,
   "metadata": {},
   "outputs": [
    {
     "name": "stdout",
     "output_type": "stream",
     "text": [
      "              precision    recall  f1-score   support\n",
      "\n",
      "           0       0.77      0.76      0.76      3731\n",
      "           1       0.76      0.77      0.76      3685\n",
      "\n",
      "    accuracy                           0.76      7416\n",
      "   macro avg       0.76      0.76      0.76      7416\n",
      "weighted avg       0.76      0.76      0.76      7416\n",
      "\n"
     ]
    }
   ],
   "source": [
    "print(classification_report(y_test, previsao_log))\n",
    "model_names.append(\"Regressão Logística\")\n",
    "f1_scores.append(f1_score(y_test, previsao_log))"
   ]
  },
  {
   "cell_type": "markdown",
   "metadata": {},
   "source": [
    "##### **6.2 - Support Vector Machines:**"
   ]
  },
  {
   "cell_type": "code",
   "execution_count": 147,
   "metadata": {},
   "outputs": [],
   "source": [
    "modelo_svm = SVC()\n",
    "modelo_svm.fit(x_train, y_train)\n",
    "previsao_svm = modelo_svm.predict(x_test)"
   ]
  },
  {
   "cell_type": "code",
   "execution_count": 148,
   "metadata": {},
   "outputs": [
    {
     "name": "stdout",
     "output_type": "stream",
     "text": [
      "A acurácia geral do modelo em relação a todos os dados foi de aproximadamente 72.90%.\n",
      "O modelo identificou corretamente 2440 registros com o rótulo '<=50K'.\n",
      "O modelo identificou corretamente 2966 registros com o rótulo '>50'.\n"
     ]
    },
    {
     "data": {
      "image/png": "[encoded data removed]",
      "text/plain": [
       "<Figure size 500x300 with 1 Axes>"
      ]
     },
     "metadata": {},
     "output_type": "display_data"
    },
    {
     "data": {
      "image/png": "[encoded data removed]",
      "text/plain": [
       "<Figure size 500x300 with 1 Axes>"
      ]
     },
     "metadata": {},
     "output_type": "display_data"
    }
   ],
   "source": [
    "PerformanceMetrics(y_test, previsao_svm, [\"<=50K\", \">50\"])"
   ]
  },
  {
   "cell_type": "code",
   "execution_count": 149,
   "metadata": {},
   "outputs": [
    {
     "name": "stdout",
     "output_type": "stream",
     "text": [
      "              precision    recall  f1-score   support\n",
      "\n",
      "           0       0.77      0.65      0.71      3731\n",
      "           1       0.70      0.80      0.75      3685\n",
      "\n",
      "    accuracy                           0.73      7416\n",
      "   macro avg       0.73      0.73      0.73      7416\n",
      "weighted avg       0.73      0.73      0.73      7416\n",
      "\n"
     ]
    }
   ],
   "source": [
    "print(classification_report(y_test, previsao_svm))\n",
    "model_names.append(\"SVM\")\n",
    "f1_scores.append(f1_score(y_test, previsao_svm))"
   ]
  },
  {
   "cell_type": "markdown",
   "metadata": {},
   "source": [
    "##### **6.3 - Random Forest Classifier:**"
   ]
  },
  {
   "cell_type": "code",
   "execution_count": 150,
   "metadata": {},
   "outputs": [],
   "source": [
    "modelo_random = RandomForestClassifier()\n",
    "modelo_random.fit(x_train, y_train)\n",
    "previsao_random = modelo_random.predict(x_test)\n"
   ]
  },
  {
   "cell_type": "code",
   "execution_count": 151,
   "metadata": {},
   "outputs": [
    {
     "name": "stdout",
     "output_type": "stream",
     "text": [
      "A acurácia geral do modelo em relação a todos os dados foi de aproximadamente 89.16%.\n",
      "O modelo identificou corretamente 3239 registros com o rótulo '<=50K'.\n",
      "O modelo identificou corretamente 3373 registros com o rótulo '>50'.\n"
     ]
    },
    {
     "data": {
      "image/png": "[encoded data removed]",
      "text/plain": [
       "<Figure size 500x300 with 1 Axes>"
      ]
     },
     "metadata": {},
     "output_type": "display_data"
    },
    {
     "data": {
      "image/png": "[encoded data removed]",
      "text/plain": [
       "<Figure size 500x300 with 1 Axes>"
      ]
     },
     "metadata": {},
     "output_type": "display_data"
    }
   ],
   "source": [
    "PerformanceMetrics(y_test, previsao_random, [\"<=50K\", \">50\"])"
   ]
  },
  {
   "cell_type": "code",
   "execution_count": 152,
   "metadata": {},
   "outputs": [
    {
     "name": "stdout",
     "output_type": "stream",
     "text": [
      "              precision    recall  f1-score   support\n",
      "\n",
      "           0       0.91      0.87      0.89      3731\n",
      "           1       0.87      0.92      0.89      3685\n",
      "\n",
      "    accuracy                           0.89      7416\n",
      "   macro avg       0.89      0.89      0.89      7416\n",
      "weighted avg       0.89      0.89      0.89      7416\n",
      "\n"
     ]
    }
   ],
   "source": [
    "print(classification_report(y_test, previsao_random))\n",
    "model_names.append(\"Random Forest\")\n",
    "f1_scores.append(f1_score(y_test, previsao_random))"
   ]
  },
  {
   "cell_type": "markdown",
   "metadata": {},
   "source": [
    "##### **6.4 - Gradient Boosting Classifier:**"
   ]
  },
  {
   "cell_type": "code",
   "execution_count": 153,
   "metadata": {},
   "outputs": [],
   "source": [
    "modelo_gradient = GradientBoostingClassifier()\n",
    "modelo_gradient.fit(x_train, y_train)\n",
    "previsao_gradient = modelo_gradient.predict(x_test)\n"
   ]
  },
  {
   "cell_type": "code",
   "execution_count": 154,
   "metadata": {},
   "outputs": [
    {
     "name": "stdout",
     "output_type": "stream",
     "text": [
      "A acurácia geral do modelo em relação a todos os dados foi de aproximadamente 85.98%.\n",
      "O modelo identificou corretamente 3095 registros com o rótulo '<=50K'.\n",
      "O modelo identificou corretamente 3281 registros com o rótulo '>50'.\n"
     ]
    },
    {
     "data": {
      "image/png": "[encoded data removed]",
      "text/plain": [
       "<Figure size 500x300 with 1 Axes>"
      ]
     },
     "metadata": {},
     "output_type": "display_data"
    },
    {
     "data": {
      "image/png": "[encoded data removed]",
      "text/plain": [
       "<Figure size 500x300 with 1 Axes>"
      ]
     },
     "metadata": {},
     "output_type": "display_data"
    }
   ],
   "source": [
    "PerformanceMetrics(y_test, previsao_gradient, [\"<=50K\", \">50\"])"
   ]
  },
  {
   "cell_type": "code",
   "execution_count": 155,
   "metadata": {},
   "outputs": [
    {
     "name": "stdout",
     "output_type": "stream",
     "text": [
      "              precision    recall  f1-score   support\n",
      "\n",
      "           0       0.88      0.83      0.86      3731\n",
      "           1       0.84      0.89      0.86      3685\n",
      "\n",
      "    accuracy                           0.86      7416\n",
      "   macro avg       0.86      0.86      0.86      7416\n",
      "weighted avg       0.86      0.86      0.86      7416\n",
      "\n"
     ]
    }
   ],
   "source": [
    "print(classification_report(y_test, previsao_gradient))\n",
    "model_names.append(\"Gradient Boosting Classifier\")\n",
    "f1_scores.append(f1_score(y_test, previsao_gradient))"
   ]
  },
  {
   "cell_type": "markdown",
   "metadata": {},
   "source": [
    "##### **6.5 - Neural Network Classification:**"
   ]
  },
  {
   "cell_type": "code",
   "execution_count": 156,
   "metadata": {},
   "outputs": [],
   "source": [
    "modelo_neural = MLPClassifier()\n",
    "modelo_neural.fit(x_train, y_train)\n",
    "previsao_neural = modelo_neural.predict(x_test)"
   ]
  },
  {
   "cell_type": "code",
   "execution_count": 157,
   "metadata": {},
   "outputs": [
    {
     "name": "stdout",
     "output_type": "stream",
     "text": [
      "A acurácia geral do modelo em relação a todos os dados foi de aproximadamente 82.69%.\n",
      "O modelo identificou corretamente 3061 registros com o rótulo '<=50K'.\n",
      "O modelo identificou corretamente 3071 registros com o rótulo '>50'.\n"
     ]
    },
    {
     "data": {
      "image/png": "[encoded data removed]",
      "text/plain": [
       "<Figure size 500x300 with 1 Axes>"
      ]
     },
     "metadata": {},
     "output_type": "display_data"
    },
    {
     "data": {
      "image/png": "[encoded data removed]",
      "text/plain": [
       "<Figure size 500x300 with 1 Axes>"
      ]
     },
     "metadata": {},
     "output_type": "display_data"
    }
   ],
   "source": [
    "PerformanceMetrics(y_test, previsao_neural, [\"<=50K\", \">50\"])"
   ]
  },
  {
   "cell_type": "code",
   "execution_count": 158,
   "metadata": {},
   "outputs": [
    {
     "name": "stdout",
     "output_type": "stream",
     "text": [
      "              precision    recall  f1-score   support\n",
      "\n",
      "           0       0.83      0.82      0.83      3731\n",
      "           1       0.82      0.83      0.83      3685\n",
      "\n",
      "    accuracy                           0.83      7416\n",
      "   macro avg       0.83      0.83      0.83      7416\n",
      "weighted avg       0.83      0.83      0.83      7416\n",
      "\n"
     ]
    }
   ],
   "source": [
    "print(classification_report(y_test, previsao_neural)) \n",
    "model_names.append(\"Neural Network\")\n",
    "f1_scores.append(f1_score(y_test, previsao_neural))"
   ]
  },
  {
   "cell_type": "markdown",
   "metadata": {},
   "source": [
    "##### **6.6 - Balanced Random Forest Classifier:**"
   ]
  },
  {
   "cell_type": "code",
   "execution_count": 159,
   "metadata": {},
   "outputs": [],
   "source": [
    "modelo_random_bal = BalancedRandomForestClassifier()\n",
    "modelo_random_bal.fit(x_train, y_train)\n",
    "previsao_random = modelo_random_bal.predict(x_test)"
   ]
  },
  {
   "cell_type": "code",
   "execution_count": 160,
   "metadata": {},
   "outputs": [
    {
     "name": "stdout",
     "output_type": "stream",
     "text": [
      "A acurácia geral do modelo em relação a todos os dados foi de aproximadamente 89.17%.\n",
      "O modelo identificou corretamente 3251 registros com o rótulo '<=50K'.\n",
      "O modelo identificou corretamente 3362 registros com o rótulo '>50'.\n"
     ]
    },
    {
     "data": {
      "image/png": "[encoded data removed]",
      "text/plain": [
       "<Figure size 500x300 with 1 Axes>"
      ]
     },
     "metadata": {},
     "output_type": "display_data"
    },
    {
     "data": {
      "image/png": "[encoded data removed]",
      "text/plain": [
       "<Figure size 500x300 with 1 Axes>"
      ]
     },
     "metadata": {},
     "output_type": "display_data"
    }
   ],
   "source": [
    "PerformanceMetrics(y_test, previsao_random, [\"<=50K\", \">50\"])"
   ]
  },
  {
   "cell_type": "code",
   "execution_count": 161,
   "metadata": {},
   "outputs": [
    {
     "name": "stdout",
     "output_type": "stream",
     "text": [
      "              precision    recall  f1-score   support\n",
      "\n",
      "           0       0.91      0.87      0.89      3731\n",
      "           1       0.88      0.91      0.89      3685\n",
      "\n",
      "    accuracy                           0.89      7416\n",
      "   macro avg       0.89      0.89      0.89      7416\n",
      "weighted avg       0.89      0.89      0.89      7416\n",
      "\n"
     ]
    }
   ],
   "source": [
    "print(classification_report(y_test, previsao_random))\n",
    "model_names.append(\"Balanced Random Forest Classifier\")\n",
    "f1_scores.append(f1_score(y_test, previsao_random))"
   ]
  },
  {
   "cell_type": "code",
   "execution_count": 65,
   "metadata": {},
   "outputs": [
    {
     "data": {
      "image/png": "[encoded data removed]",
      "text/plain": [
       "<Figure size 1500x700 with 1 Axes>"
      ]
     },
     "metadata": {},
     "output_type": "display_data"
    }
   ],
   "source": [
    "import matplotlib.pyplot as plt\n",
    "import numpy as np\n",
    "\n",
    "# Criando o gráfico\n",
    "plt.figure(figsize=(15, 7))\n",
    "bars = plt.bar(model_names, f1_scores, color='#087E8B', edgecolor='black')\n",
    "\n",
    "# Adicionando rótulos com os valores\n",
    "for bar in bars:\n",
    "    height = bar.get_height()\n",
    "    plt.text(bar.get_x() + bar.get_width()/2.0, height, f'{height:.2f}', ha='center', va='bottom', fontsize=10)\n",
    "\n",
    "# Configurando o gráfico\n",
    "plt.title(\"Comparação de f1-score entre Algoritmos\", fontsize=14)\n",
    "plt.ylabel(\"f1-score\", fontsize=12)\n",
    "plt.xlabel(\"Modelos\", fontsize=12)\n",
    "plt.ylim(0, 1)\n",
    "plt.xlim(-1, 6)\n",
    "plt.grid(axis='y', linestyle='--', alpha=0.7)\n",
    "plt.tight_layout()\n",
    "\n",
    "# Exibindo o gráfico\n",
    "plt.show()"
   ]
  },
  {
   "cell_type": "markdown",
   "metadata": {},
   "source": [
    "### **6 - Otimização do melhor modelo**"
   ]
  },
  {
   "cell_type": "markdown",
   "metadata": {},
   "source": [
    "#### **6.1- Encontrando os melhores parâmetros com GridSearch:**"
   ]
  },
  {
   "cell_type": "markdown",
   "metadata": {},
   "source": [
    "##### **6.1.2- Balanced Random Forest:**"
   ]
  },
  {
   "cell_type": "code",
   "execution_count": 66,
   "metadata": {},
   "outputs": [
    {
     "data": {
      "text/plain": [
       "{'criterion': 'entropy',\n",
       " 'min_samples_leaf': 1,\n",
       " 'min_samples_split': 2,\n",
       " 'n_estimators': 150}"
      ]
     },
     "metadata": {},
     "output_type": "display_data"
    },
    {
     "data": {
      "text/plain": [
       "np.float64(0.8922532362459548)"
      ]
     },
     "metadata": {},
     "output_type": "display_data"
    }
   ],
   "source": [
    "param_grid = {'n_estimators': [10, 40, 100, 150],\n",
    "              'criterion': ['gini', 'entropy'],\n",
    "              'min_samples_split': [2, 5, 10],\n",
    "              'min_samples_leaf': [1, 5, 10]\n",
    "              }\n",
    "\n",
    "grid_search =  GridSearchCV(estimator=BalancedRandomForestClassifier(), param_grid=param_grid)\n",
    "grid_search.fit(x_features, y_class)\n",
    "\n",
    "melhores_parametros = grid_search.best_params_\n",
    "melhores_resultados = grid_search.best_score_\n",
    "\n",
    "display(melhores_parametros)\n",
    "display(melhores_resultados)"
   ]
  },
  {
   "cell_type": "code",
   "execution_count": 162,
   "metadata": {},
   "outputs": [],
   "source": [
    "modelo_random_bal = BalancedRandomForestClassifier(criterion='entropy', min_samples_leaf=1, min_samples_split=2, n_estimators=150)\n",
    "modelo_random_bal.fit(x_train, y_train)\n",
    "previsao_random = modelo_random_bal.predict(x_test)"
   ]
  },
  {
   "cell_type": "code",
   "execution_count": 163,
   "metadata": {},
   "outputs": [
    {
     "name": "stdout",
     "output_type": "stream",
     "text": [
      "A acurácia geral do modelo em relação a todos os dados foi de aproximadamente 89.28%.\n",
      "O modelo identificou corretamente 3238 registros com o rótulo '<=50K'.\n",
      "O modelo identificou corretamente 3383 registros com o rótulo '>50'.\n"
     ]
    },
    {
     "data": {
      "image/png": "[encoded data removed]",
      "text/plain": [
       "<Figure size 500x300 with 1 Axes>"
      ]
     },
     "metadata": {},
     "output_type": "display_data"
    },
    {
     "data": {
      "image/png": "[encoded data removed]",
      "text/plain": [
       "<Figure size 500x300 with 1 Axes>"
      ]
     },
     "metadata": {},
     "output_type": "display_data"
    },
    {
     "name": "stdout",
     "output_type": "stream",
     "text": [
      "              precision    recall  f1-score   support\n",
      "\n",
      "           0       0.91      0.87      0.89      3731\n",
      "           1       0.87      0.92      0.89      3685\n",
      "\n",
      "    accuracy                           0.89      7416\n",
      "   macro avg       0.89      0.89      0.89      7416\n",
      "weighted avg       0.89      0.89      0.89      7416\n",
      "\n"
     ]
    }
   ],
   "source": [
    "PerformanceMetrics(y_test, previsao_random, [\"<=50K\", \">50\"])\n",
    "print(classification_report(y_test, previsao_random))"
   ]
  },
  {
   "cell_type": "markdown",
   "metadata": {},
   "source": [
    "##### **6.1.2 -  Random Forest:**"
   ]
  },
  {
   "cell_type": "code",
   "execution_count": 69,
   "metadata": {},
   "outputs": [
    {
     "data": {
      "text/plain": [
       "{'criterion': 'gini',\n",
       " 'min_samples_leaf': 1,\n",
       " 'min_samples_split': 2,\n",
       " 'n_estimators': 100}"
      ]
     },
     "metadata": {},
     "output_type": "display_data"
    },
    {
     "data": {
      "text/plain": [
       "np.float64(0.8918082524271845)"
      ]
     },
     "metadata": {},
     "output_type": "display_data"
    }
   ],
   "source": [
    "param_grid = {'n_estimators': [10, 40, 100, 150],\n",
    "              'criterion': ['gini', 'entropy'],\n",
    "              'min_samples_split': [2, 5, 10],\n",
    "              'min_samples_leaf': [1, 5, 10]\n",
    "              }\n",
    "\n",
    "grid_search =  GridSearchCV(estimator=RandomForestClassifier(), param_grid=param_grid)\n",
    "grid_search.fit(x_features, y_class)\n",
    "\n",
    "melhores_parametros = grid_search.best_params_\n",
    "melhores_resultados = grid_search.best_score_\n",
    "\n",
    "display(melhores_parametros)\n",
    "display(melhores_resultados)"
   ]
  },
  {
   "cell_type": "code",
   "execution_count": 164,
   "metadata": {},
   "outputs": [],
   "source": [
    "modelo_random = RandomForestClassifier(criterion='entropy', min_samples_leaf=1, min_samples_split=2, n_estimators=100)\n",
    "modelo_random.fit(x_train, y_train)\n",
    "previsao_random = modelo_random.predict(x_test)"
   ]
  },
  {
   "cell_type": "code",
   "execution_count": 165,
   "metadata": {},
   "outputs": [
    {
     "name": "stdout",
     "output_type": "stream",
     "text": [
      "A acurácia geral do modelo em relação a todos os dados foi de aproximadamente 89.39%.\n",
      "O modelo identificou corretamente 3254 registros com o rótulo '<=50K'.\n",
      "O modelo identificou corretamente 3375 registros com o rótulo '>50'.\n"
     ]
    },
    {
     "data": {
      "image/png": "[encoded data removed]",
      "text/plain": [
       "<Figure size 500x300 with 1 Axes>"
      ]
     },
     "metadata": {},
     "output_type": "display_data"
    },
    {
     "data": {
      "image/png": "[encoded data removed]",
      "text/plain": [
       "<Figure size 500x300 with 1 Axes>"
      ]
     },
     "metadata": {},
     "output_type": "display_data"
    },
    {
     "name": "stdout",
     "output_type": "stream",
     "text": [
      "              precision    recall  f1-score   support\n",
      "\n",
      "           0       0.91      0.87      0.89      3731\n",
      "           1       0.88      0.92      0.90      3685\n",
      "\n",
      "    accuracy                           0.89      7416\n",
      "   macro avg       0.89      0.89      0.89      7416\n",
      "weighted avg       0.89      0.89      0.89      7416\n",
      "\n"
     ]
    }
   ],
   "source": [
    "PerformanceMetrics(y_test, previsao_random, [\"<=50K\", \">50\"])\n",
    "print(classification_report(y_test, previsao_random))"
   ]
  },
  {
   "cell_type": "code",
   "execution_count": 166,
   "metadata": {},
   "outputs": [
    {
     "data": {
      "text/plain": [
       "['encoder_y.pkl']"
      ]
     },
     "execution_count": 166,
     "metadata": {},
     "output_type": "execute_result"
    }
   ],
   "source": [
    "import joblib\n",
    "\n",
    "joblib.dump(modelo_random, \"model_random_forest.pkl\")\n",
    "joblib.dump(preprocessor_x, \"preprocessor_x.pkl\")\n",
    "joblib.dump(encoder_y, \"encoder_y.pkl\")"
   ]
  },
  {
   "cell_type": "markdown",
   "metadata": {},
   "source": [
    "### Resultado do Treinamento:\n",
    "\n",
    "- Entre os 6 modelos utilizados para a classificação de registros, aqueles que mostraram os melhores resultados foram:\n",
    "\n",
    "1. **Balanced Random Forest** com **89.54% de acurácia** \n",
    "2. **Random Forest** com **89.60% de acurácia**. \n",
    "\n",
    "- No entanto, após a otimização de parâmetros com o GridSearch, notamos que os dois tipos de Random Forest tiveram um resultado praticamente igual, equilibrindo nas métricas recall e precision."
   ]
  },
  {
   "cell_type": "markdown",
   "metadata": {},
   "source": [
    "### **7- Apresentando Solução:**"
   ]
  },
  {
   "cell_type": "markdown",
   "metadata": {},
   "source": [
    "<a href=\"3test.ipynb\">Direcionando para o Arquivo de apresentação da solução</a>"
   ]
  }
 ],
 "metadata": {
  "kernelspec": {
   "display_name": "venv",
   "language": "python",
   "name": "python3"
  },
  "language_info": {
   "codemirror_mode": {
    "name": "ipython",
    "version": 3
   },
   "file_extension": ".py",
   "mimetype": "text/x-python",
   "name": "python",
   "nbconvert_exporter": "python",
   "pygments_lexer": "ipython3",
   "version": "3.12.7"
  }
 },
 "nbformat": 4,
 "nbformat_minor": 2
}
