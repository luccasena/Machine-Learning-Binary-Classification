{
 "cells": [
  {
   "cell_type": "markdown",
   "metadata": {},
   "source": [
    "## **Dataset: Adult - UCI Machine Learning Repository**\n",
    "\n",
    "Link: https://archive.ics.uci.edu/dataset/2/adult"
   ]
  },
  {
   "cell_type": "markdown",
   "metadata": {},
   "source": [
    "### **7- Apresentando Solução:**"
   ]
  },
  {
   "cell_type": "markdown",
   "metadata": {},
   "source": [
    "- Para garantir que os algoritmos não sofreram overfitting, neste documento será realizado um novo teste com todos os modelos treinados anteriormente, porém nos testes ele serão submetidos por novos dados. O objetivo desse documento é extrair o quanto um algoritmo consegue classificar corretamente cada registro."
   ]
  },
  {
   "cell_type": "code",
   "execution_count": 2,
   "metadata": {},
   "outputs": [],
   "source": [
    "import pandas as pd\n",
    "import pickle as pkl"
   ]
  },
  {
   "cell_type": "markdown",
   "metadata": {},
   "source": [
    "#### **7.1 - Importando os modelos treinados:**"
   ]
  },
  {
   "cell_type": "code",
   "execution_count": 3,
   "metadata": {},
   "outputs": [],
   "source": [
    "with open('model_random_forest.pkl', 'rb') as f:\n",
    "    model_random_forest = pkl.load(f)"
   ]
  },
  {
   "cell_type": "code",
   "execution_count": 4,
   "metadata": {},
   "outputs": [
    {
     "data": {
      "text/html": [
       "<div>\n",
       "<style scoped>\n",
       "    .dataframe tbody tr th:only-of-type {\n",
       "        vertical-align: middle;\n",
       "    }\n",
       "\n",
       "    .dataframe tbody tr th {\n",
       "        vertical-align: top;\n",
       "    }\n",
       "\n",
       "    .dataframe thead th {\n",
       "        text-align: right;\n",
       "    }\n",
       "</style>\n",
       "<table border=\"1\" class=\"dataframe\">\n",
       "  <thead>\n",
       "    <tr style=\"text-align: right;\">\n",
       "      <th></th>\n",
       "      <th>X0</th>\n",
       "      <th>X1</th>\n",
       "      <th>X2</th>\n",
       "      <th>X3</th>\n",
       "      <th>X4</th>\n",
       "      <th>X5</th>\n",
       "      <th>X6</th>\n",
       "      <th>X7</th>\n",
       "      <th>X8</th>\n",
       "      <th>X9</th>\n",
       "      <th>X10</th>\n",
       "      <th>X11</th>\n",
       "      <th>X12</th>\n",
       "      <th>X13</th>\n",
       "      <th>X14</th>\n",
       "    </tr>\n",
       "  </thead>\n",
       "  <tbody>\n",
       "    <tr>\n",
       "      <th>0</th>\n",
       "      <td>25</td>\n",
       "      <td>Private</td>\n",
       "      <td>226802</td>\n",
       "      <td>11th</td>\n",
       "      <td>7</td>\n",
       "      <td>Never-married</td>\n",
       "      <td>Machine-op-inspct</td>\n",
       "      <td>Own-child</td>\n",
       "      <td>Black</td>\n",
       "      <td>Male</td>\n",
       "      <td>0</td>\n",
       "      <td>0</td>\n",
       "      <td>40</td>\n",
       "      <td>United-States</td>\n",
       "      <td>&lt;=50K.</td>\n",
       "    </tr>\n",
       "    <tr>\n",
       "      <th>1</th>\n",
       "      <td>38</td>\n",
       "      <td>Private</td>\n",
       "      <td>89814</td>\n",
       "      <td>HS-grad</td>\n",
       "      <td>9</td>\n",
       "      <td>Married-civ-spouse</td>\n",
       "      <td>Farming-fishing</td>\n",
       "      <td>Husband</td>\n",
       "      <td>White</td>\n",
       "      <td>Male</td>\n",
       "      <td>0</td>\n",
       "      <td>0</td>\n",
       "      <td>50</td>\n",
       "      <td>United-States</td>\n",
       "      <td>&lt;=50K.</td>\n",
       "    </tr>\n",
       "    <tr>\n",
       "      <th>2</th>\n",
       "      <td>28</td>\n",
       "      <td>Local-gov</td>\n",
       "      <td>336951</td>\n",
       "      <td>Assoc-acdm</td>\n",
       "      <td>12</td>\n",
       "      <td>Married-civ-spouse</td>\n",
       "      <td>Protective-serv</td>\n",
       "      <td>Husband</td>\n",
       "      <td>White</td>\n",
       "      <td>Male</td>\n",
       "      <td>0</td>\n",
       "      <td>0</td>\n",
       "      <td>40</td>\n",
       "      <td>United-States</td>\n",
       "      <td>&gt;50K.</td>\n",
       "    </tr>\n",
       "    <tr>\n",
       "      <th>3</th>\n",
       "      <td>44</td>\n",
       "      <td>Private</td>\n",
       "      <td>160323</td>\n",
       "      <td>Some-college</td>\n",
       "      <td>10</td>\n",
       "      <td>Married-civ-spouse</td>\n",
       "      <td>Machine-op-inspct</td>\n",
       "      <td>Husband</td>\n",
       "      <td>Black</td>\n",
       "      <td>Male</td>\n",
       "      <td>7688</td>\n",
       "      <td>0</td>\n",
       "      <td>40</td>\n",
       "      <td>United-States</td>\n",
       "      <td>&gt;50K.</td>\n",
       "    </tr>\n",
       "    <tr>\n",
       "      <th>4</th>\n",
       "      <td>18</td>\n",
       "      <td>?</td>\n",
       "      <td>103497</td>\n",
       "      <td>Some-college</td>\n",
       "      <td>10</td>\n",
       "      <td>Never-married</td>\n",
       "      <td>?</td>\n",
       "      <td>Own-child</td>\n",
       "      <td>White</td>\n",
       "      <td>Female</td>\n",
       "      <td>0</td>\n",
       "      <td>0</td>\n",
       "      <td>30</td>\n",
       "      <td>United-States</td>\n",
       "      <td>&lt;=50K.</td>\n",
       "    </tr>\n",
       "    <tr>\n",
       "      <th>...</th>\n",
       "      <td>...</td>\n",
       "      <td>...</td>\n",
       "      <td>...</td>\n",
       "      <td>...</td>\n",
       "      <td>...</td>\n",
       "      <td>...</td>\n",
       "      <td>...</td>\n",
       "      <td>...</td>\n",
       "      <td>...</td>\n",
       "      <td>...</td>\n",
       "      <td>...</td>\n",
       "      <td>...</td>\n",
       "      <td>...</td>\n",
       "      <td>...</td>\n",
       "      <td>...</td>\n",
       "    </tr>\n",
       "    <tr>\n",
       "      <th>16276</th>\n",
       "      <td>39</td>\n",
       "      <td>Private</td>\n",
       "      <td>215419</td>\n",
       "      <td>Bachelors</td>\n",
       "      <td>13</td>\n",
       "      <td>Divorced</td>\n",
       "      <td>Prof-specialty</td>\n",
       "      <td>Not-in-family</td>\n",
       "      <td>White</td>\n",
       "      <td>Female</td>\n",
       "      <td>0</td>\n",
       "      <td>0</td>\n",
       "      <td>36</td>\n",
       "      <td>United-States</td>\n",
       "      <td>&lt;=50K.</td>\n",
       "    </tr>\n",
       "    <tr>\n",
       "      <th>16277</th>\n",
       "      <td>64</td>\n",
       "      <td>?</td>\n",
       "      <td>321403</td>\n",
       "      <td>HS-grad</td>\n",
       "      <td>9</td>\n",
       "      <td>Widowed</td>\n",
       "      <td>?</td>\n",
       "      <td>Other-relative</td>\n",
       "      <td>Black</td>\n",
       "      <td>Male</td>\n",
       "      <td>0</td>\n",
       "      <td>0</td>\n",
       "      <td>40</td>\n",
       "      <td>United-States</td>\n",
       "      <td>&lt;=50K.</td>\n",
       "    </tr>\n",
       "    <tr>\n",
       "      <th>16278</th>\n",
       "      <td>38</td>\n",
       "      <td>Private</td>\n",
       "      <td>374983</td>\n",
       "      <td>Bachelors</td>\n",
       "      <td>13</td>\n",
       "      <td>Married-civ-spouse</td>\n",
       "      <td>Prof-specialty</td>\n",
       "      <td>Husband</td>\n",
       "      <td>White</td>\n",
       "      <td>Male</td>\n",
       "      <td>0</td>\n",
       "      <td>0</td>\n",
       "      <td>50</td>\n",
       "      <td>United-States</td>\n",
       "      <td>&lt;=50K.</td>\n",
       "    </tr>\n",
       "    <tr>\n",
       "      <th>16279</th>\n",
       "      <td>44</td>\n",
       "      <td>Private</td>\n",
       "      <td>83891</td>\n",
       "      <td>Bachelors</td>\n",
       "      <td>13</td>\n",
       "      <td>Divorced</td>\n",
       "      <td>Adm-clerical</td>\n",
       "      <td>Own-child</td>\n",
       "      <td>Asian-Pac-Islander</td>\n",
       "      <td>Male</td>\n",
       "      <td>5455</td>\n",
       "      <td>0</td>\n",
       "      <td>40</td>\n",
       "      <td>United-States</td>\n",
       "      <td>&lt;=50K.</td>\n",
       "    </tr>\n",
       "    <tr>\n",
       "      <th>16280</th>\n",
       "      <td>35</td>\n",
       "      <td>Self-emp-inc</td>\n",
       "      <td>182148</td>\n",
       "      <td>Bachelors</td>\n",
       "      <td>13</td>\n",
       "      <td>Married-civ-spouse</td>\n",
       "      <td>Exec-managerial</td>\n",
       "      <td>Husband</td>\n",
       "      <td>White</td>\n",
       "      <td>Male</td>\n",
       "      <td>0</td>\n",
       "      <td>0</td>\n",
       "      <td>60</td>\n",
       "      <td>United-States</td>\n",
       "      <td>&gt;50K.</td>\n",
       "    </tr>\n",
       "  </tbody>\n",
       "</table>\n",
       "<p>16281 rows × 15 columns</p>\n",
       "</div>"
      ],
      "text/plain": [
       "       X0             X1      X2             X3   X4                   X5  \\\n",
       "0      25        Private  226802           11th    7        Never-married   \n",
       "1      38        Private   89814        HS-grad    9   Married-civ-spouse   \n",
       "2      28      Local-gov  336951     Assoc-acdm   12   Married-civ-spouse   \n",
       "3      44        Private  160323   Some-college   10   Married-civ-spouse   \n",
       "4      18              ?  103497   Some-college   10        Never-married   \n",
       "...    ..            ...     ...            ...  ...                  ...   \n",
       "16276  39        Private  215419      Bachelors   13             Divorced   \n",
       "16277  64              ?  321403        HS-grad    9              Widowed   \n",
       "16278  38        Private  374983      Bachelors   13   Married-civ-spouse   \n",
       "16279  44        Private   83891      Bachelors   13             Divorced   \n",
       "16280  35   Self-emp-inc  182148      Bachelors   13   Married-civ-spouse   \n",
       "\n",
       "                       X6               X7                   X8       X9  \\\n",
       "0       Machine-op-inspct        Own-child                Black     Male   \n",
       "1         Farming-fishing          Husband                White     Male   \n",
       "2         Protective-serv          Husband                White     Male   \n",
       "3       Machine-op-inspct          Husband                Black     Male   \n",
       "4                       ?        Own-child                White   Female   \n",
       "...                   ...              ...                  ...      ...   \n",
       "16276      Prof-specialty    Not-in-family                White   Female   \n",
       "16277                   ?   Other-relative                Black     Male   \n",
       "16278      Prof-specialty          Husband                White     Male   \n",
       "16279        Adm-clerical        Own-child   Asian-Pac-Islander     Male   \n",
       "16280     Exec-managerial          Husband                White     Male   \n",
       "\n",
       "        X10   X11   X12             X13      X14  \n",
       "0         0     0    40   United-States   <=50K.  \n",
       "1         0     0    50   United-States   <=50K.  \n",
       "2         0     0    40   United-States    >50K.  \n",
       "3      7688     0    40   United-States    >50K.  \n",
       "4         0     0    30   United-States   <=50K.  \n",
       "...     ...   ...   ...             ...      ...  \n",
       "16276     0     0    36   United-States   <=50K.  \n",
       "16277     0     0    40   United-States   <=50K.  \n",
       "16278     0     0    50   United-States   <=50K.  \n",
       "16279  5455     0    40   United-States   <=50K.  \n",
       "16280     0     0    60   United-States    >50K.  \n",
       "\n",
       "[16281 rows x 15 columns]"
      ]
     },
     "execution_count": 4,
     "metadata": {},
     "output_type": "execute_result"
    }
   ],
   "source": [
    "dataset = pd.read_csv(\"data/adult_test.csv\")\n",
    "dataset"
   ]
  },
  {
   "cell_type": "markdown",
   "metadata": {},
   "source": [
    "#### **7.2 - Tratando os Dados:**"
   ]
  },
  {
   "cell_type": "markdown",
   "metadata": {},
   "source": [
    "Com o objetivo de que os algoritmos consigam realizar as previsões, é essencial que os dados tenham os mesmo tratamento que utilizado nos dados de treinamento. Portanto, neste passo irei repetir o mesmo processo que realizei anteriormente."
   ]
  },
  {
   "cell_type": "code",
   "execution_count": 6,
   "metadata": {},
   "outputs": [],
   "source": [
    "dataset.columns = [\"age\", \"workclass\", \"fnlwgt\", \"education\",\"education-num\", \"marital-status\", \"occupation\", \"relationship\", \"race\", \"sex\", \"capital-gain\", \"capital-loss\", \"hours-per-week\", \"native-country\", \"income\"]"
   ]
  },
  {
   "cell_type": "code",
   "execution_count": 7,
   "metadata": {},
   "outputs": [
    {
     "data": {
      "text/plain": [
       "income\n",
       "<=50K.    12435\n",
       ">50K.      3846\n",
       "dtype: int64"
      ]
     },
     "execution_count": 7,
     "metadata": {},
     "output_type": "execute_result"
    }
   ],
   "source": [
    "group_income = dataset.groupby([\"income\"]).size()\n",
    "group_income"
   ]
  },
  {
   "cell_type": "code",
   "execution_count": 8,
   "metadata": {},
   "outputs": [],
   "source": [
    "dataset.loc[dataset[\"workclass\"] == ' ?', 'workclass'] = \" Private\"\n",
    "dataset.loc[dataset[\"occupation\"] == ' ?', 'occupation'] = \" Prof-specialty\"\n",
    "dataset.loc[dataset[\"native-country\"] == ' ?', 'native-country'] = \" United-States\"\n",
    "dataset.loc[dataset[\"income\"] == ' <=50K.', 'income'] = \" <=50K\"\n",
    "dataset.loc[dataset[\"income\"] == ' >50K.', 'income'] = \" >50K\"\n"
   ]
  },
  {
   "cell_type": "markdown",
   "metadata": {},
   "source": [
    "- Vale uma observação que neste dataset foi encontrando nas classes um caracter \".\" acrecentado e por isso houve a necessidade de trata-lo."
   ]
  },
  {
   "cell_type": "markdown",
   "metadata": {},
   "source": [
    "#### **7.3 - Pré-processamento dos Dados:**"
   ]
  },
  {
   "cell_type": "code",
   "execution_count": 9,
   "metadata": {},
   "outputs": [
    {
     "data": {
      "text/plain": [
       "array([[25, ' Private', 226802, ..., 0, 40, ' United-States'],\n",
       "       [38, ' Private', 89814, ..., 0, 50, ' United-States'],\n",
       "       [28, ' Local-gov', 336951, ..., 0, 40, ' United-States'],\n",
       "       ...,\n",
       "       [38, ' Private', 374983, ..., 0, 50, ' United-States'],\n",
       "       [44, ' Private', 83891, ..., 0, 40, ' United-States'],\n",
       "       [35, ' Self-emp-inc', 182148, ..., 0, 60, ' United-States']],\n",
       "      shape=(16281, 14), dtype=object)"
      ]
     },
     "metadata": {},
     "output_type": "display_data"
    },
    {
     "data": {
      "text/plain": [
       "array([' <=50K', ' <=50K', ' >50K', ..., ' <=50K', ' <=50K', ' >50K'],\n",
       "      shape=(16281,), dtype=object)"
      ]
     },
     "metadata": {},
     "output_type": "display_data"
    }
   ],
   "source": [
    "x_features = dataset.iloc[:, 0:14].values\n",
    "y_class = dataset.iloc[:, 14].values\n",
    "\n",
    "display(x_features, y_class)"
   ]
  },
  {
   "cell_type": "code",
   "execution_count": 10,
   "metadata": {},
   "outputs": [
    {
     "data": {
      "text/plain": [
       "array([[-0.99434754, -0.09851079,  0.73008519, ..., -0.20395789,\n",
       "        -0.02713725,  0.25775643],\n",
       "       [-0.05534973, -0.09851079, -1.20715134, ..., -0.20395789,\n",
       "         0.78953854,  0.25775643],\n",
       "       [-0.77765574, -1.88752825,  1.44771264, ..., -0.20395789,\n",
       "        -0.02713725,  0.25775643],\n",
       "       ...,\n",
       "       [-0.05534973, -0.09851079,  1.57809034, ..., -0.20395789,\n",
       "         0.78953854,  0.25775643],\n",
       "       [ 0.37803387, -0.09851079, -1.25391128, ..., -0.20395789,\n",
       "        -0.02713725,  0.25775643],\n",
       "       [-0.27204153,  0.79599794,  0.06691931, ..., -0.20395789,\n",
       "         1.60621433,  0.25775643]], shape=(16281, 14))"
      ]
     },
     "execution_count": 10,
     "metadata": {},
     "output_type": "execute_result"
    }
   ],
   "source": [
    "# Ferramentas para Pré-Processamento\n",
    "\n",
    "from sklearn.preprocessing import LabelEncoder\n",
    "from sklearn.preprocessing import StandardScaler\n",
    "from sklearn.model_selection import train_test_split\n",
    "\n",
    "codificador_label = LabelEncoder()\n",
    "\n",
    "for i in range(x_features.shape[1]):\n",
    "    x_features[:,i] = codificador_label.fit_transform(x_features[:, i])\n",
    "\n",
    "y_class = codificador_label.fit_transform(y_class)\n",
    "padronizador = StandardScaler()\n",
    "x_features = padronizador.fit_transform(x_features)\n",
    "x_features"
   ]
  },
  {
   "cell_type": "code",
   "execution_count": 11,
   "metadata": {},
   "outputs": [
    {
     "data": {
      "text/plain": [
       "array([[-0.99434754, -0.09851079,  0.73008519, ..., -0.20395789,\n",
       "        -0.02713725,  0.25775643],\n",
       "       [-0.05534973, -0.09851079, -1.20715134, ..., -0.20395789,\n",
       "         0.78953854,  0.25775643],\n",
       "       [-0.77765574, -1.88752825,  1.44771264, ..., -0.20395789,\n",
       "        -0.02713725,  0.25775643],\n",
       "       ...,\n",
       "       [ 1.82264588, -0.09851079,  1.38197368, ..., -0.20395789,\n",
       "        -0.02713725,  0.25775643],\n",
       "       [ 0.37803387, -0.09851079, -1.25391128, ..., -0.20395789,\n",
       "        -0.02713725,  0.25775643],\n",
       "       [-0.27204153,  0.79599794,  0.06691931, ..., -0.20395789,\n",
       "         1.60621433,  0.25775643]], shape=(15497, 14))"
      ]
     },
     "execution_count": 11,
     "metadata": {},
     "output_type": "execute_result"
    }
   ],
   "source": [
    "from imblearn.under_sampling import TomekLinks\n",
    "\n",
    "tl = TomekLinks(sampling_strategy='majority')\n",
    "x_features, y_class = tl.fit_resample(x_features, y_class)\n",
    "x_features"
   ]
  },
  {
   "cell_type": "markdown",
   "metadata": {},
   "source": [
    "#### **7.4 - Realizando as Previsões e Avaliando:**"
   ]
  },
  {
   "cell_type": "code",
   "execution_count": 14,
   "metadata": {},
   "outputs": [],
   "source": [
    "from sklearn.metrics import confusion_matrix, accuracy_score, classification_report, roc_curve, roc_curve, auc, roc_auc_score\n",
    "import matplotlib.pyplot as plt\n",
    "import seaborn as sn\n",
    "\n",
    "def PerformanceMetrics(y_true, predict, class_name):\n",
    "    # Imprime Matriz de Confusão:\n",
    "\n",
    "    confusion_matrix_df = pd.DataFrame(\n",
    "        confusion_matrix(y_true, predict), \n",
    "        index=class_name, \n",
    "        columns=class_name\n",
    "    )\n",
    "\n",
    "    plt.figure(figsize=(5,3))\n",
    "    sn.set_theme(font_scale=0.9, )\n",
    "    sn.heatmap(confusion_matrix_df, annot=True, fmt=\"d\", cmap=\"Blues\", cbar=False)\n",
    "\n",
    "    # Imprime a Acurácia:\n",
    "\n",
    "    print(f\"A acurácia geral do modelo em relação a todos os dados foi de aproximadamente {accuracy_score(y_true, predict) * 100:.2f}%.\")\n",
    "    for i, label in enumerate(class_name):\n",
    "        print(f\"O modelo identificou corretamente {confusion_matrix_df.values[i][i]} registros com o rótulo '{label}'.\")\n",
    "\n",
    "    fpr, tpr, thresholds = roc_curve(y_true, predict)\n",
    "    auc = roc_auc_score(y_true, predict)\n",
    "    plt.figure(figsize=(5,3))\n",
    "    plt.plot(fpr, tpr, label=f'AUC = {auc:.2f}', color='blue')\n",
    "    plt.plot([0, 1], [0, 1], linestyle='--', color='gray')  # Linha diagonal (classificador aleatório)\n",
    "    plt.xlabel('Taxa de Falsos Positivos (FPR)', fontsize=12)\n",
    "    plt.ylabel('Taxa de Verdadeiros Positivos (TPR)', fontsize=12)\n",
    "    plt.title('Curva ROC', fontsize=14)\n",
    "    plt.legend(loc='lower right')\n",
    "    plt.grid()\n",
    "    plt.show()\n",
    "\n",
    "roc_data = []"
   ]
  },
  {
   "cell_type": "markdown",
   "metadata": {},
   "source": [
    "##### **7.4.6 -  Random Forest Classifier:**"
   ]
  },
  {
   "cell_type": "code",
   "execution_count": 15,
   "metadata": {},
   "outputs": [
    {
     "name": "stdout",
     "output_type": "stream",
     "text": [
      "A acurácia geral do modelo em relação a todos os dados foi de aproximadamente 86.04%.\n",
      "O modelo identificou corretamente 10773 registros com o rótulo ' <=50K'.\n",
      "O modelo identificou corretamente 2561 registros com o rótulo ' >50'.\n"
     ]
    },
    {
     "data": {
      "image/png": "[encoded data removed]",
      "text/plain": [
       "<Figure size 500x300 with 1 Axes>"
      ]
     },
     "metadata": {},
     "output_type": "display_data"
    },
    {
     "data": {
      "image/png": "[encoded data removed]",
      "text/plain": [
       "<Figure size 500x300 with 1 Axes>"
      ]
     },
     "metadata": {},
     "output_type": "display_data"
    },
    {
     "name": "stdout",
     "output_type": "stream",
     "text": [
      "              precision    recall  f1-score   support\n",
      "\n",
      "           0       0.92      0.89      0.91     12058\n",
      "           1       0.67      0.74      0.70      3439\n",
      "\n",
      "    accuracy                           0.86     15497\n",
      "   macro avg       0.80      0.82      0.81     15497\n",
      "weighted avg       0.87      0.86      0.86     15497\n",
      "\n"
     ]
    }
   ],
   "source": [
    "predict = model_random_forest.predict(x_features)\n",
    "PerformanceMetrics(y_class, predict, [\" <=50K\", \" >50\"])\n",
    "print(classification_report(predict, y_class))"
   ]
  },
  {
   "cell_type": "markdown",
   "metadata": {},
   "source": [
    "## **Conclusão**"
   ]
  },
  {
   "cell_type": "markdown",
   "metadata": {},
   "source": [
    "- O algoritmo **Random Forest** ofereceu um ótimo desempenho em classificar os registros, alcançando uma acurácia de 86%. Sobre as demais métricas:\n",
    "\n",
    "\n",
    "**1. Precision:** Mede a proporção de Verdadeiros positivos entre as previsões realizadas como positivas.\n",
    "- <=50k: 92%\n",
    "- \\>50K: 67%\n",
    "\n",
    "**2. Recall:** Capacidade de um algoritmo classificar corretamente os verdadeiros positivos.\n",
    "- <=50k: 89%\n",
    "- \\>50K: 74%\n",
    "\n",
    "**3. F1-Score:** Média Harmonica entre \"Precision\" e \"Recall\".\n",
    "- <=50k: 92%\n",
    "- \\>50K: 70%"
   ]
  }
 ],
 "metadata": {
  "kernelspec": {
   "display_name": "venv",
   "language": "python",
   "name": "python3"
  },
  "language_info": {
   "codemirror_mode": {
    "name": "ipython",
    "version": 3
   },
   "file_extension": ".py",
   "mimetype": "text/x-python",
   "name": "python",
   "nbconvert_exporter": "python",
   "pygments_lexer": "ipython3",
   "version": "3.12.7"
  }
 },
 "nbformat": 4,
 "nbformat_minor": 2
}
